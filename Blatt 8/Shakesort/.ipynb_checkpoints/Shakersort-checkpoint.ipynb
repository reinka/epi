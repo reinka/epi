{
 "cells": [
  {
   "cell_type": "code",
   "execution_count": 1,
   "metadata": {
    "collapsed": true
   },
   "outputs": [],
   "source": [
    "import numpy as np\n",
    "import timeit\n",
    "import matplotlib.pyplot as plt\n",
    "%matplotlib inline"
   ]
  },
  {
   "cell_type": "markdown",
   "metadata": {},
   "source": [
    "# Algorithmus"
   ]
  },
  {
   "cell_type": "code",
   "execution_count": 2,
   "metadata": {
    "collapsed": true
   },
   "outputs": [],
   "source": [
    "def shakerSort(arr):\n",
    "    swap = range(len(arr)-1)\n",
    "    while 1:\n",
    "        for index in (swap,reversed(swap)):\n",
    "            swapped = False\n",
    "            for i in index:\n",
    "                if arr[i] > arr[i+1]:\n",
    "                    arr[i], arr[i+1] = arr[i+1], arr[i]\n",
    "                    swapped = True\n",
    "            if not swapped:\n",
    "                return arr\n",
    "            \n",
    "# Speicherkomplexität: O(n) "
   ]
  },
  {
   "cell_type": "markdown",
   "metadata": {},
   "source": [
    "# Laufzeitkomplexität O(n²)"
   ]
  },
  {
   "cell_type": "code",
   "execution_count": 3,
   "metadata": {
    "collapsed": false
   },
   "outputs": [],
   "source": [
    "random_number_sequence = np.arange(1,10000000)"
   ]
  },
  {
   "cell_type": "code",
   "execution_count": 4,
   "metadata": {
    "collapsed": false
   },
   "outputs": [
    {
     "data": {
      "text/plain": [
       "[array([4450926,  666489, 5624532, ...,  915298, 6399760, 1521718]),\n",
       " array([7966626, 9574047, 8366360, ...,   16235, 2813694, 3479296]),\n",
       " array([6479186, 7071341, 7542956, ..., 6681088, 7670237, 7301537]),\n",
       " array([3179894, 6201908, 7176892, ..., 2178755, 1435366, 2203456]),\n",
       " array([2030762, 4571539, 2490090, ..., 6471740, 6941752, 2538912]),\n",
       " array([9769658, 7290319, 8767466, ..., 8921181, 4378053, 2427054]),\n",
       " array([6476184, 7255704, 5015439, ..., 4204989, 3416211, 4453867]),\n",
       " array([7029740, 5597730, 8246863, ..., 9269116,   40217, 6444664]),\n",
       " array([6897140, 2534426, 2955575, ..., 3731331, 2885560, 6715120]),\n",
       " array([1702892, 1115141,  834087, ..., 8884244,  785010, 1940829]),\n",
       " array([9035744, 5501928, 4029391, ..., 3310480, 4298814,  624738]),\n",
       " array([9277452, 9235264, 4025152, ..., 8026869, 1482702, 3109035]),\n",
       " array([4047663, 8650100, 8853652, ..., 4311535, 1101905, 8677859]),\n",
       " array([5854111, 3208795, 1665681, ..., 4398572, 5834509, 8411175])]"
      ]
     },
     "execution_count": 4,
     "metadata": {},
     "output_type": "execute_result"
    }
   ],
   "source": [
    "test_array = []\n",
    "for i in range(1,15):\n",
    "    test_array.append(np.random.choice(random_number_sequence, size=1500*i, replace=False))\n",
    "test_array"
   ]
  },
  {
   "cell_type": "code",
   "execution_count": 5,
   "metadata": {
    "collapsed": false,
    "scrolled": true
   },
   "outputs": [],
   "source": [
    "def laufzeiten(arr):\n",
    "    laufzeiten = {}\n",
    "    for i in range(14):\n",
    "        laufzeit_arr = []\n",
    "        start = timeit.default_timer()\n",
    "        shakerSort(test_array[i])\n",
    "        laufzeit_arr.append(timeit.default_timer() - start)        #Differenz Start-/Stopzeit als Element im Array\n",
    "        laufzeiten[i] = laufzeit_arr                                   #Array ins Dict einfügen  \n",
    "\n",
    "    \n",
    "    #Berechne Mittelwert der Laufzeiten   \n",
    "    mean = []\n",
    "    for value in laufzeiten.values():\n",
    "        mean.append(np.mean(value))\n",
    "    return (mean)"
   ]
  },
  {
   "cell_type": "code",
   "execution_count": 16,
   "metadata": {
    "collapsed": false
   },
   "outputs": [
    {
     "data": {
      "text/plain": [
       "[0.00065113000164274126,\n",
       " 0.0012003619995084591,\n",
       " 0.0017963179998332635,\n",
       " 0.0054668260054313578,\n",
       " 15.964041726001597,\n",
       " 34.208830466996005,\n",
       " 47.93599814800109,\n",
       " 62.170872569004132,\n",
       " 77.059121206999407,\n",
       " 92.270028195001942,\n",
       " 111.71400923500187,\n",
       " 130.2647078969967,\n",
       " 153.23558610799955,\n",
       " 174.79504887200164]"
      ]
     },
     "execution_count": 16,
     "metadata": {},
     "output_type": "execute_result"
    }
   ],
   "source": [
    "x = laufzeiten(test_array)\n",
    "x"
   ]
  },
  {
   "cell_type": "code",
   "execution_count": 40,
   "metadata": {
    "collapsed": false
   },
   "outputs": [],
   "source": [
    "n = []\n",
    "for i in range(len(test_array)):\n",
    "    n.append(len(test_array[i]))\n",
    "\n",
    "x_1 = np.array(n)\n",
    "y_1 = np.array([0.00065113000164274126,\n",
    " 0.0012003619995084591,\n",
    " 0.0017963179998332635,\n",
    " 0.0054668260054313578,\n",
    " 15.964041726001597,\n",
    " 34.208830466996005,\n",
    " 47.93599814800109,\n",
    " 62.170872569004132,\n",
    " 77.059121206999407,\n",
    " 92.270028195001942,\n",
    " 111.71400923500187,\n",
    " 130.2647078969967,\n",
    " 153.23558610799955,\n",
    " 174.79504887200164])"
   ]
  },
  {
   "cell_type": "code",
   "execution_count": 41,
   "metadata": {
    "collapsed": false
   },
   "outputs": [
    {
     "data": {
      "image/png": "[encoded data removed]",
      "text/plain": [
       "<matplotlib.figure.Figure at 0x7f377edd8f98>"
      ]
     },
     "metadata": {},
     "output_type": "display_data"
    }
   ],
   "source": [
    "#import sys            for Python 2.7\n",
    "\n",
    "#reload(sys)  \n",
    "#sys.setdefaultencoding('utf8')\n",
    "\n",
    "# get x and y vectors\n",
    "x = x_1\n",
    "y = y_1\n",
    "\n",
    "# calculate polynomial\n",
    "z = np.polyfit(x, y, 2)\n",
    "f = np.poly1d(z)\n",
    "\n",
    "# calculate new x's and y's\n",
    "x_new = np.linspace(x[0], x[-1], 50)\n",
    "y_new = f(x_new)\n",
    "\n",
    "plt.plot(x,y,'o', x_new, y_new)\n",
    "plt.title(r'Shakersort Laufzeitkomplexität')\n",
    "plt.xlabel(r'Array Elemente $\\mathrm{n}$')\n",
    "plt.ylabel('Swapsort Laufzeitkomplexität')\n",
    "plt.xlim([x[0]-1, x[-1]*1.1])\n",
    "plt.savefig('Shakersort Laufzeitkomplexität')\n",
    "plt.show()"
   ]
  },
  {
   "cell_type": "code",
   "execution_count": null,
   "metadata": {
    "collapsed": true
   },
   "outputs": [],
   "source": []
  },
  {
   "cell_type": "code",
   "execution_count": null,
   "metadata": {
    "collapsed": true
   },
   "outputs": [],
   "source": []
  }
 ],
 "metadata": {
  "kernelspec": {
   "display_name": "Python 3",
   "language": "python",
   "name": "python3"
  },
  "language_info": {
   "codemirror_mode": {
    "name": "ipython",
    "version": 3
   },
   "file_extension": ".py",
   "mimetype": "text/x-python",
   "name": "python",
   "nbconvert_exporter": "python",
   "pygments_lexer": "ipython3",
   "version": "3.5.1"
  }
 },
 "nbformat": 4,
 "nbformat_minor": 0
}
