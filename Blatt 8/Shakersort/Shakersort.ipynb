{
 "cells": [
  {
   "cell_type": "code",
   "execution_count": 1,
   "metadata": {
    "collapsed": true
   },
   "outputs": [],
   "source": [
    "import numpy as np\n",
    "import timeit\n",
    "import matplotlib.pyplot as plt\n",
    "%matplotlib inline"
   ]
  },
  {
   "cell_type": "markdown",
   "metadata": {},
   "source": [
    "# Algorithmus"
   ]
  },
  {
   "cell_type": "code",
   "execution_count": 63,
   "metadata": {
    "collapsed": true
   },
   "outputs": [],
   "source": [
    "def shakerSort(arr):\n",
    "    swap = range(len(arr)-1)\n",
    "    while 1:\n",
    "        for index in (swap,reversed(swap)):\n",
    "            swapped = False\n",
    "            for i in index:\n",
    "                if arr[i] > arr[i+1]:\n",
    "                    arr[i], arr[i+1] = arr[i+1], arr[i]\n",
    "                    swapped = True\n",
    "            if not swapped:\n",
    "                return arr\n",
    "            \n",
    "# Speicherkomplexität: O(n) "
   ]
  },
  {
   "cell_type": "markdown",
   "metadata": {},
   "source": [
    "# Laufzeitkomplexität"
   ]
  },
  {
   "cell_type": "code",
   "execution_count": 3,
   "metadata": {
    "collapsed": false
   },
   "outputs": [],
   "source": [
    "random_number_sequence = np.arange(1,10000000)"
   ]
  },
  {
   "cell_type": "code",
   "execution_count": 52,
   "metadata": {
    "collapsed": false
   },
   "outputs": [
    {
     "data": {
      "text/plain": [
       "[array([4072543, 5141058, 6588134, ...,  262949, 6100666, 2179052]),\n",
       " array([5636628, 1145463,  697369, ..., 9221150,  215696, 9814499]),\n",
       " array([3348516, 1445672, 6474771, ..., 1115459,  469040, 9506442]),\n",
       " array([3547109, 3471163, 6454709, ..., 5773679, 3906269, 1832265]),\n",
       " array([6221150, 6522641, 9494540, ..., 3937249, 2230455, 4227072]),\n",
       " array([1635215, 2113504, 9718091, ..., 3887671, 9217080, 8467192]),\n",
       " array([3713348, 3759236, 2301000, ...,  839384, 1212629, 6123166]),\n",
       " array([2964119, 4159980, 9671296, ..., 4199818, 3493174, 3179136]),\n",
       " array([8202996, 4382631, 2863741, ..., 5009502, 5990990, 7141452]),\n",
       " array([1821400, 5223912, 5596912, ..., 5829394, 2971880, 2735321]),\n",
       " array([4382394, 1073738, 9586656, ..., 7903207, 4082773, 8779825]),\n",
       " array([8777200, 5059381, 7812402, ..., 6739934, 5800781, 2263469]),\n",
       " array([ 325198, 8284147, 6739360, ..., 6400146,  839707, 4191969]),\n",
       " array([1087059, 5364203, 3282402, ..., 2285090, 3282566, 3375957])]"
      ]
     },
     "execution_count": 52,
     "metadata": {},
     "output_type": "execute_result"
    }
   ],
   "source": [
    "test_array = []\n",
    "for i in range(1,15):\n",
    "    test_array.append(np.random.choice(random_number_sequence, size=1500*i, replace=False))\n",
    "test_array"
   ]
  },
  {
   "cell_type": "code",
   "execution_count": 56,
   "metadata": {
    "collapsed": false,
    "scrolled": true
   },
   "outputs": [],
   "source": [
    "def laufzeiten(arr):\n",
    "    laufzeiten = {}\n",
    "    for i in range(14):\n",
    "        laufzeit_arr = []\n",
    "        start = timeit.default_timer()\n",
    "        shakerSort(test_array[i])\n",
    "        laufzeit_arr.append(timeit.default_timer() - start)        #Differenz Start-/Stopzeit als Element im Array\n",
    "        laufzeiten[i] = laufzeit_arr                                   #Array ins Dict einfügen  \n",
    "\n",
    "    \n",
    "    #Berechne Mittelwert der Laufzeiten   \n",
    "    mean = []\n",
    "    for value in laufzeiten.values():\n",
    "        mean.append(np.mean(value))\n",
    "    return (mean)"
   ]
  },
  {
   "cell_type": "code",
   "execution_count": 57,
   "metadata": {
    "collapsed": false
   },
   "outputs": [
    {
     "data": {
      "text/plain": [
       "[0.000576019287109375,\n",
       " 2.7666862010955811,\n",
       " 6.0635690689086914,\n",
       " 11.104958057403564,\n",
       " 17.478456020355225,\n",
       " 25.266539096832275,\n",
       " 35.018170833587646,\n",
       " 55.855575084686279,\n",
       " 62.902333974838257,\n",
       " 70.118521928787231,\n",
       " 86.85732889175415,\n",
       " 102.26269793510437,\n",
       " 136.8366379737854,\n",
       " 161.33630013465881]"
      ]
     },
     "execution_count": 57,
     "metadata": {},
     "output_type": "execute_result"
    }
   ],
   "source": [
    "x = laufzeiten(test_array)\n",
    "x"
   ]
  },
  {
   "cell_type": "code",
   "execution_count": 174,
   "metadata": {
    "collapsed": false
   },
   "outputs": [],
   "source": [
    "x_1 = np.array(n)\n",
    "y_1 = y = np.array([0.000576019287109375,\n",
    "                    2.7666862010955811,\n",
    "                    6.0635690689086914,\n",
    "                    11.104958057403564,\n",
    "                    17.478456020355225,\n",
    "                    25.266539096832275,\n",
    "                    35.018170833587646,\n",
    "                    55.855575084686279,\n",
    "                    62.902333974838257,\n",
    "                    70.118521928787231,\n",
    "                    86.85732889175415,\n",
    "                    102.26269793510437,\n",
    "                    136.8366379737854,\n",
    "                    161.33630013465881])"
   ]
  },
  {
   "cell_type": "code",
   "execution_count": 175,
   "metadata": {
    "collapsed": false
   },
   "outputs": [
    {
     "data": {
      "image/png": "[encoded data removed]",
      "text/plain": [
       "<matplotlib.figure.Figure at 0x7f9658fb1a10>"
      ]
     },
     "metadata": {},
     "output_type": "display_data"
    }
   ],
   "source": [
    "import sys  \n",
    "\n",
    "reload(sys)  \n",
    "sys.setdefaultencoding('utf8')\n",
    "\n",
    "# get x and y vectors\n",
    "x = n[:len(x)]\n",
    "y = y\n",
    "\n",
    "# calculate polynomial\n",
    "z = np.polyfit(x, y, 2)\n",
    "f = np.poly1d(z)\n",
    "\n",
    "# calculate new x's and y's\n",
    "x_new = np.linspace(x[0], x[-1], 50)\n",
    "y_new = f(x_new)\n",
    "\n",
    "plt.plot(x,y,'o', x_new, y_new)\n",
    "plt.title(r'Shakersort Laufzeitkomplexität')\n",
    "plt.xlabel(r'Array Elemente $\\mathrm{n}$')\n",
    "plt.ylabel('Swapsort Laufzeitkomplexität')\n",
    "plt.xlim([x[0]-1, x[-1]*1.1])\n",
    "plt.savefig('Shakersort Laufzeitkomplexität')\n",
    "plt.show()"
   ]
  }
 ],
 "metadata": {
  "kernelspec": {
   "display_name": "Python 2",
   "language": "python",
   "name": "python2"
  },
  "language_info": {
   "codemirror_mode": {
    "name": "ipython",
    "version": 2
   },
   "file_extension": ".py",
   "mimetype": "text/x-python",
   "name": "python",
   "nbconvert_exporter": "python",
   "pygments_lexer": "ipython2",
   "version": "2.7.11"
  }
 },
 "nbformat": 4,
 "nbformat_minor": 0
}
