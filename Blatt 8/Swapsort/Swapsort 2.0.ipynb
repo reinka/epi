{
 "cells": [
  {
   "cell_type": "code",
   "execution_count": 1,
   "metadata": {
    "collapsed": true
   },
   "outputs": [],
   "source": [
    "import random\n",
    "import numpy as np\n",
    "\n",
    "import matplotlib.pyplot as plt\n",
    "%matplotlib inline"
   ]
  },
  {
   "cell_type": "markdown",
   "metadata": {},
   "source": [
    "# SWAPSORT IMPLEMENTIERUNG"
   ]
  },
  {
   "cell_type": "code",
   "execution_count": 2,
   "metadata": {
    "collapsed": false
   },
   "outputs": [],
   "source": [
    "def swap_sort(arr):\n",
    "    index = 0\n",
    "    while index < len(arr) - 1:\n",
    "        new_index = sum(x < arr[index] for x in arr)\n",
    "        if index == new_index:\n",
    "            index += 1\n",
    "        else:\n",
    "            arr[index], arr[new_index] = arr[new_index], arr[index]\n",
    "    #return arr\n",
    "    \n",
    "#Luafzeit und Speicherkomplexität: O(n)"
   ]
  },
  {
   "cell_type": "code",
   "execution_count": 3,
   "metadata": {
    "collapsed": false
   },
   "outputs": [
    {
     "data": {
      "text/plain": [
       "[7, 8, 5, 2, 4, 9, 3, 1]"
      ]
     },
     "execution_count": 3,
     "metadata": {},
     "output_type": "execute_result"
    }
   ],
   "source": [
    "arr = [7,8,5,2,4,9,3,1]\n",
    "arr"
   ]
  },
  {
   "cell_type": "code",
   "execution_count": 4,
   "metadata": {
    "collapsed": false
   },
   "outputs": [
    {
     "data": {
      "text/plain": [
       "[1, 2, 3, 4, 5, 7, 8, 9]"
      ]
     },
     "execution_count": 4,
     "metadata": {},
     "output_type": "execute_result"
    }
   ],
   "source": [
    "swap_sort(arr)"
   ]
  },
  {
   "cell_type": "markdown",
   "metadata": {},
   "source": [
    "# Zeitkomplexität"
   ]
  },
  {
   "cell_type": "code",
   "execution_count": 5,
   "metadata": {
    "collapsed": true
   },
   "outputs": [],
   "source": [
    "random_number_sequence = np.arange(1,10000000)"
   ]
  },
  {
   "cell_type": "markdown",
   "metadata": {},
   "source": [
    "## Sample arrays mit 500, 1000, 1.500, 2.000, 2.500 & 3.000 zufällig ausgewählten Elementen\n"
   ]
  },
  {
   "cell_type": "code",
   "execution_count": 36,
   "metadata": {
    "collapsed": false
   },
   "outputs": [],
   "source": [
    "test_array = []\n",
    "for i in range(1,11):\n",
    "    test_array.append(np.random.choice(random_number_sequence, size=200*i, replace=False))"
   ]
  },
  {
   "cell_type": "markdown",
   "metadata": {},
   "source": [
    "## Laufzeitbestimmung "
   ]
  },
  {
   "cell_type": "code",
   "execution_count": 37,
   "metadata": {
    "collapsed": false
   },
   "outputs": [
    {
     "name": "stdout",
     "output_type": "stream",
     "text": [
      "{0: [0.3168645949990605], 1: [1.2229995870002313], 2: [2.822184302000096], 3: [5.051010815994232], 4: [7.87509102900367], 5: [11.394793291001406], 6: [15.372875977998774], 7: [20.179481483006384], 8: [25.539095579995774], 9: [31.63126477300102]}\n"
     ]
    },
    {
     "data": {
      "text/plain": [
       "[0.3168645949990605,\n",
       " 1.2229995870002313,\n",
       " 2.8221843020000961,\n",
       " 5.051010815994232,\n",
       " 7.87509102900367,\n",
       " 11.394793291001406,\n",
       " 15.372875977998774,\n",
       " 20.179481483006384,\n",
       " 25.539095579995774,\n",
       " 31.631264773001021]"
      ]
     },
     "execution_count": 37,
     "metadata": {},
     "output_type": "execute_result"
    }
   ],
   "source": [
    "import timeit\n",
    "\n",
    "\n",
    "laufzeiten = {}\n",
    "for i in range(10):\n",
    "    laufzeit_arr = []\n",
    "    start = timeit.default_timer()\n",
    "    swap_sort(test_array[i])\n",
    "    laufzeit_arr.append(timeit.default_timer() - start)        #Differenz Start-/Stopzeit als Element im Array\n",
    "    laufzeiten[i] = laufzeit_arr                                   #Array ins Dict einfügen  \n",
    "\n",
    "print (laufzeiten)\n",
    "    \n",
    "#Berechne Mittelwert der Laufzeiten   \n",
    "mean = []\n",
    "for value in laufzeiten.values():\n",
    "    mean.append(np.mean(value))\n",
    "mean"
   ]
  },
  {
   "cell_type": "code",
   "execution_count": 42,
   "metadata": {
    "collapsed": false
   },
   "outputs": [
    {
     "data": {
      "image/png": "[encoded data removed]",
      "text/plain": [
       "<matplotlib.figure.Figure at 0x7f9229462668>"
      ]
     },
     "metadata": {},
     "output_type": "display_data"
    }
   ],
   "source": [
    "n = []\n",
    "for i in range(1,11):\n",
    "    n.append(200*i)\n",
    "\n",
    "# get x and y vectors\n",
    "x = n\n",
    "y = mean\n",
    "\n",
    "# calculate polynomial\n",
    "z = np.polyfit(x, y, 2)\n",
    "f = np.poly1d(z)\n",
    "\n",
    "# calculate new x's and y's\n",
    "x_new = np.linspace(x[0], x[-1], 50)\n",
    "y_new = f(x_new)\n",
    "\n",
    "plt.plot(x,y,'o', x_new, y_new)\n",
    "plt.title(r'Swapsort Laufzeitkomplexität')\n",
    "plt.xlabel(r'Array Elemente $\\mathrm{n}$')\n",
    "plt.ylabel('Zeit $\\mathrm{t}$')\n",
    "plt.xlim([x[0]-1, x[-1]*1.1])\n",
    "plt.savefig('Swapsort Laufzeitkomplexität')\n",
    "plt.show()"
   ]
  },
  {
   "cell_type": "code",
   "execution_count": null,
   "metadata": {
    "collapsed": true
   },
   "outputs": [],
   "source": []
  }
 ],
 "metadata": {
  "kernelspec": {
   "display_name": "Python 3",
   "language": "python",
   "name": "python3"
  },
  "language_info": {
   "codemirror_mode": {
    "name": "ipython",
    "version": 3
   },
   "file_extension": ".py",
   "mimetype": "text/x-python",
   "name": "python",
   "nbconvert_exporter": "python",
   "pygments_lexer": "ipython3",
   "version": "3.5.1"
  }
 },
 "nbformat": 4,
 "nbformat_minor": 0
}
