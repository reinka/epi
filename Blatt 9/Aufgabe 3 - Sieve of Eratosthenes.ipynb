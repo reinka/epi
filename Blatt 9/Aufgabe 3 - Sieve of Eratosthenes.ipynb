{
 "cells": [
  {
   "cell_type": "markdown",
   "metadata": {},
   "source": []
  },
  {
   "cell_type": "code",
   "execution_count": 1,
   "metadata": {
    "collapsed": true
   },
   "outputs": [],
   "source": [
    "def put(val):\n",
    "    inbox.append(val) \n",
    "    \n",
    "#Komplexitaet O(1)"
   ]
  },
  {
   "cell_type": "code",
   "execution_count": 2,
   "metadata": {
    "collapsed": true
   },
   "outputs": [],
   "source": [
    "def pop():\n",
    "    if outbox:\n",
    "        return outbox.pop()\n",
    "    else:\n",
    "        while inbox:\n",
    "            outbox.append(inbox.pop())\n",
    "            \n",
    "#Komplexitaet: O(n) wenn leer, sonst O(1)"
   ]
  },
  {
   "cell_type": "code",
   "execution_count": 3,
   "metadata": {
    "collapsed": false
   },
   "outputs": [],
   "source": [
    "def divisible(lst, n):\n",
    "    '''removes all elements in a given list\n",
    "        that are divisible by n\n",
    "    '''\n",
    "    [lst.remove(i) for i in lst if not i%n]\n",
    "        "
   ]
  },
  {
   "cell_type": "markdown",
   "metadata": {},
   "source": [
    "#### Algorithm"
   ]
  },
  {
   "cell_type": "code",
   "execution_count": 89,
   "metadata": {
    "collapsed": true
   },
   "outputs": [],
   "source": [
    "inbox = []\n",
    "outbox = []\n",
    "\n",
    "def sieve():\n",
    "    '''Laufzeitkomplexitaet O(n^2)'''\n",
    "    \n",
    "    [put(i) for i in range(2, int(input('Choose n:')) + 1)]\n",
    "\n",
    "    while(inbox):\n",
    "        trash = []\n",
    "        if not outbox:\n",
    "            pop()\n",
    "        prime = pop()\n",
    "        yield prime     #replace yield with print() to get immediate output\n",
    "        for num in range(len(outbox)):\n",
    "            if outbox[-1] % prime:\n",
    "                inbox.append(pop()) #swaps potential primes from outbox to inbox, while cleaning outbox of multiples\n",
    "            else:\n",
    "                trash.append(pop())    #removes multiples of last prime number out of queue"
   ]
  },
  {
   "cell_type": "code",
   "execution_count": 90,
   "metadata": {
    "collapsed": false
   },
   "outputs": [
    {
     "name": "stdout",
     "output_type": "stream",
     "text": [
      "Choose n:50\n"
     ]
    },
    {
     "data": {
      "text/plain": [
       "[2, 3, 5, 7, 11, 13, 17, 19, 23, 29, 31, 37, 41, 43, 47]"
      ]
     },
     "execution_count": 90,
     "metadata": {},
     "output_type": "execute_result"
    }
   ],
   "source": [
    "test = sieve()\n",
    "list(test)"
   ]
  },
  {
   "cell_type": "code",
   "execution_count": 87,
   "metadata": {
    "collapsed": false
   },
   "outputs": [
    {
     "data": {
      "image/png": "[encoded data removed]",
      "text/plain": [
       "<matplotlib.figure.Figure at 0x10866b2e8>"
      ]
     },
     "metadata": {},
     "output_type": "display_data"
    }
   ],
   "source": [
    "import time\n",
    "import matplotlib.pyplot as plt\n",
    "%matplotlib inline\n",
    "\n",
    "def sieve(n):\n",
    "    '''Laufzeitkomplexitaet O(n^2)'''\n",
    "    \n",
    "    [put(i) for i in range(2, n + 1)]\n",
    "\n",
    "    box = []\n",
    "    while(inbox):\n",
    "        trash = []\n",
    "        if not outbox:\n",
    "            pop()\n",
    "        prime = pop()\n",
    "        box.append(prime)\n",
    "        yield prime     #replace yield with print() to get immediate output\n",
    "        for num in range(len(outbox)):\n",
    "            if outbox[-1] % prime:\n",
    "                inbox.append(pop())\n",
    "            else:\n",
    "                trash.append(pop())\n",
    "        \n",
    "    return box\n",
    "\n",
    "inbox = []\n",
    "outbox = []\n",
    "count = 1\n",
    "limit = 100\n",
    "runtime = []\n",
    "test = []\n",
    "while(count <= 10):\n",
    "    \n",
    "    limit*=2\n",
    "    \n",
    "    start = time.time()\n",
    "    sieve(limit)\n",
    "    end = time.time()\n",
    "    runtime.append(end-start)\n",
    "    \n",
    "    \n",
    "    count += 1\n",
    "                \n",
    "x = []\n",
    "s = 100\n",
    "\n",
    "for num in range(1,11):\n",
    "    s *= 2 \n",
    "    x.append(s) \n",
    "y = runtime\n",
    "\n",
    "\n",
    "plt.plot(x, y)\n",
    "plt.xlim(0, 110000)\n",
    "plt.ylabel('Laufzeit')\n",
    "plt.xlabel('Limit')\n",
    "plt.title('Laufzeitkomplexität')\n",
    "plt.show()"
   ]
  },
  {
   "cell_type": "markdown",
   "metadata": {},
   "source": [
    "### More inefficient algorithm"
   ]
  },
  {
   "cell_type": "code",
   "execution_count": 5,
   "metadata": {
    "collapsed": false
   },
   "outputs": [],
   "source": [
    "inbox = []\n",
    "outbox = []\n",
    "\n",
    "def sieve():\n",
    "    '''Laufzeitkomplexitaet O(n^3)'''\n",
    "    \n",
    "    [put(i) for i in range(2, int(input('Choose n:')) + 1)]\n",
    "\n",
    "    pop()\n",
    "    while(outbox):\n",
    "        prime = pop()\n",
    "        yield prime     #replace yield with print() to get immediate output\n",
    "        for i in outbox:\n",
    "            divisible(outbox, prime)\n",
    "\n"
   ]
  },
  {
   "cell_type": "code",
   "execution_count": 6,
   "metadata": {
    "collapsed": false
   },
   "outputs": [
    {
     "name": "stdout",
     "output_type": "stream",
     "text": [
      "Choose n:50\n"
     ]
    },
    {
     "data": {
      "text/plain": [
       "[2, 3, 5, 7, 11, 13, 17, 19, 23, 29, 31, 37, 41, 43, 47]"
      ]
     },
     "execution_count": 6,
     "metadata": {},
     "output_type": "execute_result"
    }
   ],
   "source": [
    "test = sieve()\n",
    "list(test)"
   ]
  },
  {
   "cell_type": "code",
   "execution_count": 48,
   "metadata": {
    "collapsed": false,
    "scrolled": true
   },
   "outputs": [
    {
     "data": {
      "image/png": "[encoded data removed]",
      "text/plain": [
       "<matplotlib.figure.Figure at 0x108ccdd68>"
      ]
     },
     "metadata": {},
     "output_type": "display_data"
    }
   ],
   "source": [
    "import time \n",
    "import matplotlib.pyplot as plt\n",
    "%matplotlib inline\n",
    "\n",
    "\n",
    "def sieve(n):\n",
    "    '''Laufzeitkomplexitaet O(n^3)'''\n",
    "    \n",
    "    [put(i) for i in range(2, n + 1)]\n",
    "    \n",
    "    pop()\n",
    "    prime = []\n",
    "    while(outbox):\n",
    "        prim = pop()\n",
    "        prime.append(prim)     #replace yield with print() to get immediate output\n",
    "        for i in outbox:\n",
    "            divisible(outbox, prim)\n",
    "\n",
    "    return prime\n",
    "\n",
    "\n",
    "inbox = []\n",
    "outbox = []\n",
    "count = 1\n",
    "limit = 10\n",
    "runtime = []\n",
    "test = []\n",
    "while(count <= 10):\n",
    "    \n",
    "    limit*=2\n",
    "    \n",
    "    start = time.time()\n",
    "    sieve(limit)\n",
    "    end = time.time()\n",
    "    runtime.append(end-start)\n",
    "    \n",
    "    \n",
    "    count += 1\n",
    "                \n",
    "x = []\n",
    "s = 10\n",
    "\n",
    "for num in range(1,11):\n",
    "    s *= 2 \n",
    "    x.append(s) \n",
    "y = runtime\n",
    "\n",
    "\n",
    "plt.plot(x, y)\n",
    "plt.xlim(0, 5000)\n",
    "plt.ylabel('Laufzeit')\n",
    "plt.xlabel('Limit')\n",
    "plt.title('Laufzeitkomplexität')\n",
    "plt.show()"
   ]
  },
  {
   "cell_type": "code",
   "execution_count": 53,
   "metadata": {
    "collapsed": false
   },
   "outputs": [
    {
     "data": {
      "image/png": "[encoded data removed]",
      "text/plain": [
       "<matplotlib.figure.Figure at 0x108fa1668>"
      ]
     },
     "metadata": {},
     "output_type": "display_data"
    }
   ],
   "source": [
    "plt.plot(x, y)\n",
    "plt.xlim(0, 12000)\n",
    "plt.ylim(-2, 85)\n",
    "plt.ylabel('Laufzeit')\n",
    "plt.xlabel('Limit')\n",
    "plt.title('Laufzeitkomplexität')\n",
    "plt.show()"
   ]
  },
  {
   "cell_type": "code",
   "execution_count": 54,
   "metadata": {
    "collapsed": false
   },
   "outputs": [
    {
     "data": {
      "image/png": "[encoded data removed]",
      "text/plain": [
       "<matplotlib.figure.Figure at 0x109230e80>"
      ]
     },
     "metadata": {},
     "output_type": "display_data"
    }
   ],
   "source": [
    "plt.plot(x, y)\n",
    "plt.xlim(0, 20000)\n",
    "plt.ylim(-2, 100)\n",
    "plt.ylabel('Laufzeit')\n",
    "plt.xlabel('Limit')\n",
    "plt.title('Laufzeitkomplexität')\n",
    "plt.show()"
   ]
  },
  {
   "cell_type": "code",
   "execution_count": 80,
   "metadata": {
    "collapsed": false
   },
   "outputs": [
    {
     "name": "stdout",
     "output_type": "stream",
     "text": [
      "Choose n:50\n"
     ]
    },
    {
     "data": {
      "text/plain": [
       "[2, 3, 5, 7, 11, 13, 17, 19, 23, 29, 31, 37, 41, 43, 47]"
      ]
     },
     "execution_count": 80,
     "metadata": {},
     "output_type": "execute_result"
    }
   ],
   "source": [
    "test = sieve()\n",
    "list(test)"
   ]
  },
  {
   "cell_type": "code",
   "execution_count": 88,
   "metadata": {
    "collapsed": false
   },
   "outputs": [
    {
     "data": {
      "image/png": "[encoded data removed]",
      "text/plain": [
       "<matplotlib.figure.Figure at 0x108872198>"
      ]
     },
     "metadata": {},
     "output_type": "display_data"
    }
   ],
   "source": [
    "import time\n",
    "import matplotlib.pyplot as plt\n",
    "%matplotlib inline\n",
    "\n",
    "def sieve(n):\n",
    "    '''Laufzeitkomplexitaet O(n^2)'''\n",
    "    \n",
    "    [put(i) for i in range(2, n + 1)]\n",
    "\n",
    "    box = []\n",
    "    while(inbox):\n",
    "        trash = []\n",
    "        if not outbox:\n",
    "            pop()\n",
    "        prime = pop()\n",
    "        box.append(prime)\n",
    "        yield prime     #replace yield with print() to get immediate output\n",
    "        for num in range(len(outbox)):\n",
    "            if outbox[-1] % prime:\n",
    "                inbox.append(pop())\n",
    "            else:\n",
    "                trash.append(pop())\n",
    "        \n",
    "    return box\n",
    "\n",
    "inbox = []\n",
    "outbox = []\n",
    "count = 1\n",
    "limit = 100\n",
    "runtime = []\n",
    "test = []\n",
    "while(count <= 10):\n",
    "    \n",
    "    limit*=2\n",
    "    \n",
    "    start = time.time()\n",
    "    sieve(limit)\n",
    "    end = time.time()\n",
    "    runtime.append(end-start)\n",
    "    \n",
    "    \n",
    "    count += 1\n",
    "                \n",
    "x = []\n",
    "s = 100\n",
    "\n",
    "for num in range(1,11):\n",
    "    s *= 2 \n",
    "    x.append(s) \n",
    "y = runtime\n",
    "\n",
    "\n",
    "plt.plot(x, y)\n",
    "plt.xlim(0, 110000)\n",
    "plt.ylabel('Laufzeit')\n",
    "plt.xlabel('Limit')\n",
    "plt.title('Laufzeitkomplexität')\n",
    "plt.show()"
   ]
  },
  {
   "cell_type": "code",
   "execution_count": null,
   "metadata": {
    "collapsed": true
   },
   "outputs": [],
   "source": []
  }
 ],
 "metadata": {
  "kernelspec": {
   "display_name": "Python 3",
   "language": "python",
   "name": "python3"
  },
  "language_info": {
   "codemirror_mode": {
    "name": "ipython",
    "version": 3
   },
   "file_extension": ".py",
   "mimetype": "text/x-python",
   "name": "python",
   "nbconvert_exporter": "python",
   "pygments_lexer": "ipython3",
   "version": "3.5.1"
  }
 },
 "nbformat": 4,
 "nbformat_minor": 0
}
