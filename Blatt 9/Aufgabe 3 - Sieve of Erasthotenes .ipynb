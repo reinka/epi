{
 "cells": [
  {
   "cell_type": "code",
   "execution_count": 1,
   "metadata": {
    "collapsed": true
   },
   "outputs": [],
   "source": [
    "def put(val):\n",
    "    inbox.append(val) \n",
    "    \n",
    "#Komplexitaet O(1)"
   ]
  },
  {
   "cell_type": "code",
   "execution_count": 2,
   "metadata": {
    "collapsed": true
   },
   "outputs": [],
   "source": [
    "def pop():\n",
    "    if outbox:\n",
    "        return outbox.pop()\n",
    "    else:\n",
    "        while inbox:\n",
    "            outbox.append(inbox.pop())\n",
    "            \n",
    "#Komplexitaet: O(n) wenn leer, sonst O(1)"
   ]
  },
  {
   "cell_type": "code",
   "execution_count": 7,
   "metadata": {
    "collapsed": false
   },
   "outputs": [],
   "source": [
    "def divisible(lst, n):\n",
    "    '''removes all elements in a given list\n",
    "        that are divisible by n\n",
    "    '''\n",
    "    [lst.remove(i) for i in lst if not i%n]\n",
    "        "
   ]
  },
  {
   "cell_type": "code",
   "execution_count": 45,
   "metadata": {
    "collapsed": false
   },
   "outputs": [],
   "source": [
    "inbox = []\n",
    "outbox = []\n",
    "\n",
    "def sieve():\n",
    "    [put(i) for i in range(2, int(input('Choose n:')) + 1)]\n",
    "\n",
    "    pop()\n",
    "    while(outbox):\n",
    "        prime = pop()\n",
    "        yield prime     #replace yield with print() to get immediate output\n",
    "        for i in outbox:\n",
    "            divisible(outbox, prime)\n"
   ]
  },
  {
   "cell_type": "code",
   "execution_count": 49,
   "metadata": {
    "collapsed": false
   },
   "outputs": [
    {
     "name": "stdout",
     "output_type": "stream",
     "text": [
      "Choose n:50\n"
     ]
    },
    {
     "data": {
      "text/plain": [
       "[2, 3, 5, 7, 11, 13, 17, 19, 23, 29, 31, 37, 41, 43, 47]"
      ]
     },
     "execution_count": 49,
     "metadata": {},
     "output_type": "execute_result"
    }
   ],
   "source": [
    "test = sieve()\n",
    "list(test)"
   ]
  },
  {
   "cell_type": "code",
   "execution_count": null,
   "metadata": {
    "collapsed": true
   },
   "outputs": [],
   "source": []
  }
 ],
 "metadata": {
  "kernelspec": {
   "display_name": "Python 3",
   "language": "python",
   "name": "python3"
  },
  "language_info": {
   "codemirror_mode": {
    "name": "ipython",
    "version": 3
   },
   "file_extension": ".py",
   "mimetype": "text/x-python",
   "name": "python",
   "nbconvert_exporter": "python",
   "pygments_lexer": "ipython3",
   "version": "3.5.1"
  }
 },
 "nbformat": 4,
 "nbformat_minor": 0
}
