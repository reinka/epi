{
 "cells": [
  {
   "cell_type": "markdown",
   "metadata": {},
   "source": [
    "     (([{()}]))   ([(]))"
   ]
  },
  {
   "cell_type": "code",
   "execution_count": 40,
   "metadata": {
    "collapsed": false
   },
   "outputs": [],
   "source": [
    "def legal_sequence_of_par(string):\n",
    "    '''Es werden 2 dicts kreiert, wobei die offenen bzw. geschlossenen Klammern \n",
    "    als key verwendet werden, und jedem key ein Wert von 0-2 zugeteilt wird. \n",
    "    Die dicts werden so angelegt, dass paarweise zusammengehoerende Klammern den selben Wert haben, \n",
    "    bspw. '(' und ')' haben beide den Wert 0. Diese Eigenschaft wird spaeter verwendet, um beim pop vom stack \n",
    "    zu ueberpruefen, ob eine passende Klammer vom stack entfernt wurde.'''\n",
    "    \n",
    "    open_par = dict(zip(('(', '[', '{'),range(3)))\n",
    "    closed_par = dict(zip((')', ']', '}'),range(3)))\n",
    "    stack = []\n",
    "    right_order = False\n",
    "    for sym in string:\n",
    "            if sym in open_par:      #1.Fall: oeffnende Klammer\n",
    "                stack.append(sym)    #lege Klammer auf den stack\n",
    "            elif sym in closed_par and not stack:  #2. Fall: schliessende Klammer, stack jedoch leer\n",
    "                break\n",
    "            elif sym in closed_par and stack:    #3. Fall: schliessende Klammer, stack nicht leer\n",
    "                if open_par[stack.pop()] is not closed_par[sym]:    #Ausnahme hier! bei laengeren Strings '!=' statt 'is not'!\n",
    "                    break\n",
    "    else:\n",
    "        right_order = not bool(stack)           #bool(x) = False, falls x = {0, '', (), [], {}, None}; daher Verneinung\n",
    "                                               #alternativ: = True if not stack else False\n",
    "    return right_order\n",
    "    \n",
    "#Komplexitaet: O(n) sowohl fuer Speicher als auch Laufzeit "
   ]
  },
  {
   "cell_type": "code",
   "execution_count": 41,
   "metadata": {
    "collapsed": false
   },
   "outputs": [
    {
     "data": {
      "text/plain": [
       "True"
      ]
     },
     "execution_count": 41,
     "metadata": {},
     "output_type": "execute_result"
    }
   ],
   "source": [
    "legal_sequence_of_par('(([{()}]))')"
   ]
  },
  {
   "cell_type": "code",
   "execution_count": 42,
   "metadata": {
    "collapsed": false
   },
   "outputs": [
    {
     "data": {
      "text/plain": [
       "False"
      ]
     },
     "execution_count": 42,
     "metadata": {},
     "output_type": "execute_result"
    }
   ],
   "source": [
    "legal_sequence_of_par('{([(]))}')"
   ]
  },
  {
   "cell_type": "code",
   "execution_count": 43,
   "metadata": {
    "collapsed": false
   },
   "outputs": [
    {
     "data": {
      "text/plain": [
       "True"
      ]
     },
     "execution_count": 43,
     "metadata": {},
     "output_type": "execute_result"
    }
   ],
   "source": [
    "legal_sequence_of_par('(())()((()))')"
   ]
  },
  {
   "cell_type": "code",
   "execution_count": 44,
   "metadata": {
    "collapsed": false
   },
   "outputs": [
    {
     "data": {
      "text/plain": [
       "True"
      ]
     },
     "execution_count": 44,
     "metadata": {},
     "output_type": "execute_result"
    }
   ],
   "source": [
    "legal_sequence_of_par('(), (()), (())()((()))')"
   ]
  },
  {
   "cell_type": "code",
   "execution_count": 45,
   "metadata": {
    "collapsed": false
   },
   "outputs": [
    {
     "data": {
      "text/plain": [
       "False"
      ]
     },
     "execution_count": 45,
     "metadata": {},
     "output_type": "execute_result"
    }
   ],
   "source": [
    "legal_sequence_of_par('((())(')"
   ]
  },
  {
   "cell_type": "code",
   "execution_count": 46,
   "metadata": {
    "collapsed": false
   },
   "outputs": [
    {
     "data": {
      "text/plain": [
       "False"
      ]
     },
     "execution_count": 46,
     "metadata": {},
     "output_type": "execute_result"
    }
   ],
   "source": [
    "legal_sequence_of_par(')(')"
   ]
  },
  {
   "cell_type": "code",
   "execution_count": 47,
   "metadata": {
    "collapsed": false
   },
   "outputs": [
    {
     "data": {
      "text/plain": [
       "False"
      ]
     },
     "execution_count": 47,
     "metadata": {},
     "output_type": "execute_result"
    }
   ],
   "source": [
    "legal_sequence_of_par('(')"
   ]
  },
  {
   "cell_type": "code",
   "execution_count": 48,
   "metadata": {
    "collapsed": false
   },
   "outputs": [
    {
     "data": {
      "text/plain": [
       "False"
      ]
     },
     "execution_count": 48,
     "metadata": {},
     "output_type": "execute_result"
    }
   ],
   "source": [
    "legal_sequence_of_par(')')"
   ]
  },
  {
   "cell_type": "code",
   "execution_count": 49,
   "metadata": {
    "collapsed": false
   },
   "outputs": [
    {
     "data": {
      "text/plain": [
       "False"
      ]
     },
     "execution_count": 49,
     "metadata": {},
     "output_type": "execute_result"
    }
   ],
   "source": [
    "legal_sequence_of_par('(()')"
   ]
  }
 ],
 "metadata": {
  "kernelspec": {
   "display_name": "Python 3",
   "language": "python",
   "name": "python3"
  },
  "language_info": {
   "codemirror_mode": {
    "name": "ipython",
    "version": 3
   },
   "file_extension": ".py",
   "mimetype": "text/x-python",
   "name": "python",
   "nbconvert_exporter": "python",
   "pygments_lexer": "ipython3",
   "version": "3.5.1"
  }
 },
 "nbformat": 4,
 "nbformat_minor": 0
}
