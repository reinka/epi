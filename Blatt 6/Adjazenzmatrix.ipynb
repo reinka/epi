{
 "cells": [
  {
   "cell_type": "code",
   "execution_count": 19,
   "metadata": {
    "collapsed": false
   },
   "outputs": [],
   "source": [
    "import numpy as np\n",
    "import pandas as pd\n",
    "from math import log"
   ]
  },
  {
   "cell_type": "code",
   "execution_count": 28,
   "metadata": {
    "collapsed": false
   },
   "outputs": [],
   "source": [
    "# Annahmen: 1. dünnbesetzte Matrix mit O(n²) Einträgen besitzt max. O(n) oder O(n log(n)) Einträge ungleich 0.\n",
    "#           2. nur Matrizen der Form n² werden eingelesen\n",
    "\n",
    "# Beispielmatrix: [[0,3,0,0],[2,0,4,0],[0,0,0,1],[0,0,2,0]] \n",
    "\n",
    "def schwachbesetzte_matrix():\n",
    "    adj_matrix = np.array(input(\"Geben Sie Ihren gerichteten Graphen als Adjazenzmatrix ein: \"))\n",
    "    print adj_matrix\n",
    "    #Gibt n aus:\n",
    "    print adj_matrix.shape[0]\n",
    "    #Gibt Indizes aus, die ungleich Null, als Tupel von Arrays. Jedes Tupel steht dabei für eine Dimension und\n",
    "    #beinhaltet den Index des Elements ungleich Null in derselben Dimension.\n",
    "    print (len(np.nonzero(adj_matrix)[0]))"
   ]
  },
  {
   "cell_type": "code",
   "execution_count": 29,
   "metadata": {
    "collapsed": false
   },
   "outputs": [
    {
     "data": {
      "text/plain": [
       "2.408239965311849"
      ]
     },
     "execution_count": 29,
     "metadata": {},
     "output_type": "execute_result"
    }
   ],
   "source": [
    "4 * log(4,10)"
   ]
  },
  {
   "cell_type": "code",
   "execution_count": 27,
   "metadata": {
    "collapsed": false
   },
   "outputs": [
    {
     "name": "stdout",
     "output_type": "stream",
     "text": [
      "Geben Sie Ihren gerichteten Graphen als Adjazenzmatrix ein: [[0,3,0,0],[2,0,4,0],[0,0,0,1],[0,0,2,0]]\n",
      "[[0 3 0 0]\n",
      " [2 0 4 0]\n",
      " [0 0 0 1]\n",
      " [0 0 2 0]]\n",
      "4\n",
      "(array([0, 1, 1, 2, 3]), array([1, 0, 2, 3, 2]))\n"
     ]
    }
   ],
   "source": [
    "schwachbesetzte_matrix()"
   ]
  },
  {
   "cell_type": "code",
   "execution_count": null,
   "metadata": {
    "collapsed": true
   },
   "outputs": [],
   "source": []
  }
 ],
 "metadata": {
  "kernelspec": {
   "display_name": "Python 2",
   "language": "python",
   "name": "python2"
  },
  "language_info": {
   "codemirror_mode": {
    "name": "ipython",
    "version": 2
   },
   "file_extension": ".py",
   "mimetype": "text/x-python",
   "name": "python",
   "nbconvert_exporter": "python",
   "pygments_lexer": "ipython2",
   "version": "2.7.10"
  }
 },
 "nbformat": 4,
 "nbformat_minor": 0
}
