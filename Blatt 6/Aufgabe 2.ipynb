{
 "cells": [
  {
   "cell_type": "code",
   "execution_count": 156,
   "metadata": {
    "collapsed": true
   },
   "outputs": [],
   "source": [
    "import numpy as np\n",
    "import pandas as pd\n",
    "from pandas import Series\n",
    "import timeit"
   ]
  },
  {
   "cell_type": "code",
   "execution_count": 201,
   "metadata": {
    "collapsed": false
   },
   "outputs": [
    {
     "name": "stdout",
     "output_type": "stream",
     "text": [
      "Enter an array: [3, 6, 7, 3, 2, 5, 6, 2, 4, 2]\n"
     ]
    },
    {
     "data": {
      "text/plain": [
       "array([2, 3, 4, 5, 6, 7])"
      ]
     },
     "execution_count": 201,
     "metadata": {},
     "output_type": "execute_result"
    }
   ],
   "source": [
    "#Mehtode 1: Numpy\n",
    "arr = np.array(input(\"Enter an array: \"))\n",
    "np.unique(arr)"
   ]
  },
  {
   "cell_type": "code",
   "execution_count": 122,
   "metadata": {
    "collapsed": false
   },
   "outputs": [
    {
     "data": {
      "text/plain": [
       "(10,)"
      ]
     },
     "execution_count": 122,
     "metadata": {},
     "output_type": "execute_result"
    }
   ],
   "source": [
    "arr.shape"
   ]
  },
  {
   "cell_type": "code",
   "execution_count": 235,
   "metadata": {
    "collapsed": false
   },
   "outputs": [
    {
     "name": "stdout",
     "output_type": "stream",
     "text": [
      "Choose max value an array's element can have (integer): 1000\n",
      "Choose dimension of the array (e.g. (5,3,20) for a 5 x 3 x 20 array): (3,5,10)\n"
     ]
    },
    {
     "data": {
      "text/plain": [
       "array([[[523, 189, 327, 769, 236, 581, 159, 198, 614, 504],\n",
       "        [761, 949, 659,  28, 768, 682, 788, 220, 580, 862],\n",
       "        [762,  54, 639, 427, 222, 144, 258, 319, 184, 126],\n",
       "        [139, 871, 498, 146,   1, 824, 301, 860, 651,  87],\n",
       "        [299,   8,  75, 366, 492, 397, 739, 275, 630, 346]],\n",
       "\n",
       "       [[865, 636, 468, 273, 223,  36, 337, 484, 324, 758],\n",
       "        [785, 372, 797,  80,  39, 493, 439, 144, 882, 941],\n",
       "        [428,  38, 312, 811,  64, 280,  99, 279, 895, 736],\n",
       "        [850, 598, 381, 784, 347, 863, 183, 741, 988, 720],\n",
       "        [850, 607, 737, 427, 587, 479, 798, 428, 731, 382]],\n",
       "\n",
       "       [[284, 233, 606, 972, 752, 277, 608, 982, 117, 242],\n",
       "        [ 55,  75, 222, 136, 461, 462, 682, 590, 782, 761],\n",
       "        [ 74, 108, 557, 857, 909,  29, 958, 107, 491, 194],\n",
       "        [420, 704, 457, 118, 194, 723,  40, 481, 554, 406],\n",
       "        [317, 430, 656, 519, 580, 161, 810, 269, 285, 222]]])"
      ]
     },
     "execution_count": 235,
     "metadata": {},
     "output_type": "execute_result"
    }
   ],
   "source": [
    "arr = np.random.randint(input(\"Choose max value an array's element can have (integer): \")+1, \n",
    "                        size=(input(\"Choose dimension of the array (e.g. (5,3,20) for a 5 x 3 x 20 array): \")))\n",
    "arr"
   ]
  },
  {
   "cell_type": "code",
   "execution_count": 236,
   "metadata": {
    "collapsed": false
   },
   "outputs": [
    {
     "data": {
      "text/plain": [
       "(3, 5, 10)"
      ]
     },
     "execution_count": 236,
     "metadata": {},
     "output_type": "execute_result"
    }
   ],
   "source": [
    "arr.shape"
   ]
  },
  {
   "cell_type": "code",
   "execution_count": 237,
   "metadata": {
    "collapsed": false
   },
   "outputs": [
    {
     "name": "stdout",
     "output_type": "stream",
     "text": [
      "10000 loops, best of 3: 22.9 µs per loop\n"
     ]
    },
    {
     "data": {
      "text/plain": [
       "array([  1,   8,  28,  29,  36,  38,  39,  40,  54,  55,  64,  74,  75,\n",
       "        80,  87,  99, 107, 108, 117, 118, 126, 136, 139, 144, 146, 159,\n",
       "       161, 183, 184, 189, 194, 198, 220, 222, 223, 233, 236, 242, 258,\n",
       "       269, 273, 275, 277, 279, 280, 284, 285, 299, 301, 312, 317, 319,\n",
       "       324, 327, 337, 346, 347, 366, 372, 381, 382, 397, 406, 420, 427,\n",
       "       428, 430, 439, 457, 461, 462, 468, 479, 481, 484, 491, 492, 493,\n",
       "       498, 504, 519, 523, 554, 557, 580, 581, 587, 590, 598, 606, 607,\n",
       "       608, 614, 630, 636, 639, 651, 656, 659, 682, 704, 720, 723, 731,\n",
       "       736, 737, 739, 741, 752, 758, 761, 762, 768, 769, 782, 784, 785,\n",
       "       788, 797, 798, 810, 811, 824, 850, 857, 860, 862, 863, 865, 871,\n",
       "       882, 895, 909, 941, 949, 958, 972, 982, 988])"
      ]
     },
     "execution_count": 237,
     "metadata": {},
     "output_type": "execute_result"
    }
   ],
   "source": [
    "%timeit np.unique(arr)\n",
    "np.unique(arr)"
   ]
  },
  {
   "cell_type": "code",
   "execution_count": 238,
   "metadata": {
    "collapsed": false
   },
   "outputs": [
    {
     "data": {
      "text/plain": [
       "(139,)"
      ]
     },
     "execution_count": 238,
     "metadata": {},
     "output_type": "execute_result"
    }
   ],
   "source": [
    "np.unique(arr).shape"
   ]
  },
  {
   "cell_type": "code",
   "execution_count": 239,
   "metadata": {
    "collapsed": false
   },
   "outputs": [
    {
     "data": {
      "text/plain": [
       "array([523, 189, 327, 769, 236, 581, 159, 198, 614, 504, 761, 949, 659,\n",
       "        28, 768, 682, 788, 220, 580, 862, 762,  54, 639, 427, 222, 144,\n",
       "       258, 319, 184, 126, 139, 871, 498, 146,   1, 824, 301, 860, 651,\n",
       "        87, 299,   8,  75, 366, 492, 397, 739, 275, 630, 346, 865, 636,\n",
       "       468, 273, 223,  36, 337, 484, 324, 758, 785, 372, 797,  80,  39,\n",
       "       493, 439, 144, 882, 941, 428,  38, 312, 811,  64, 280,  99, 279,\n",
       "       895, 736, 850, 598, 381, 784, 347, 863, 183, 741, 988, 720, 850,\n",
       "       607, 737, 427, 587, 479, 798, 428, 731, 382, 284, 233, 606, 972,\n",
       "       752, 277, 608, 982, 117, 242,  55,  75, 222, 136, 461, 462, 682,\n",
       "       590, 782, 761,  74, 108, 557, 857, 909,  29, 958, 107, 491, 194,\n",
       "       420, 704, 457, 118, 194, 723,  40, 481, 554, 406, 317, 430, 656,\n",
       "       519, 580, 161, 810, 269, 285, 222])"
      ]
     },
     "execution_count": 239,
     "metadata": {},
     "output_type": "execute_result"
    }
   ],
   "source": [
    "#Methode 2: pandas.unique(). Dafür muss Array jedoch in 1D vorliegen -> Umwandlung des 3D arrays in 1D. \n",
    "arr.ravel()"
   ]
  },
  {
   "cell_type": "code",
   "execution_count": 240,
   "metadata": {
    "collapsed": false
   },
   "outputs": [
    {
     "data": {
      "text/plain": [
       "(150,)"
      ]
     },
     "execution_count": 240,
     "metadata": {},
     "output_type": "execute_result"
    }
   ],
   "source": [
    "#Test: Dimension des umgwandelten Arrays\n",
    "arr.ravel().shape"
   ]
  },
  {
   "cell_type": "code",
   "execution_count": 241,
   "metadata": {
    "collapsed": false
   },
   "outputs": [
    {
     "data": {
      "text/plain": [
       "array([523, 189, 327, 769, 236, 581, 159, 198, 614, 504, 761, 949, 659,\n",
       "        28, 768, 682, 788, 220, 580, 862, 762,  54, 639, 427, 222, 144,\n",
       "       258, 319, 184, 126, 139, 871, 498, 146,   1, 824, 301, 860, 651,\n",
       "        87, 299,   8,  75, 366, 492, 397, 739, 275, 630, 346, 865, 636,\n",
       "       468, 273, 223,  36, 337, 484, 324, 758, 785, 372, 797,  80,  39,\n",
       "       493, 439, 882, 941, 428,  38, 312, 811,  64, 280,  99, 279, 895,\n",
       "       736, 850, 598, 381, 784, 347, 863, 183, 741, 988, 720, 607, 737,\n",
       "       587, 479, 798, 731, 382, 284, 233, 606, 972, 752, 277, 608, 982,\n",
       "       117, 242,  55, 136, 461, 462, 590, 782,  74, 108, 557, 857, 909,\n",
       "        29, 958, 107, 491, 194, 420, 704, 457, 118, 723,  40, 481, 554,\n",
       "       406, 317, 430, 656, 519, 161, 810, 269, 285])"
      ]
     },
     "execution_count": 241,
     "metadata": {},
     "output_type": "execute_result"
    }
   ],
   "source": [
    "#series.unique() \n",
    "pd.unique(arr.ravel())"
   ]
  },
  {
   "cell_type": "code",
   "execution_count": 242,
   "metadata": {
    "collapsed": false
   },
   "outputs": [
    {
     "data": {
      "text/plain": [
       "(139,)"
      ]
     },
     "execution_count": 242,
     "metadata": {},
     "output_type": "execute_result"
    }
   ],
   "source": [
    "#Test, ob genaso viele Elemente wie in np.unique()\n",
    "pd.unique(arr.ravel()).shape"
   ]
  },
  {
   "cell_type": "code",
   "execution_count": 243,
   "metadata": {
    "collapsed": false
   },
   "outputs": [
    {
     "data": {
      "text/plain": [
       "array([523, 189, 327, 769, 236, 581, 159, 198, 614, 504, 761, 949, 659,\n",
       "        28, 768, 682, 788, 220, 580, 862, 762,  54, 639, 427, 222, 144,\n",
       "       258, 319, 184, 126, 139, 871, 498, 146,   1, 824, 301, 860, 651,\n",
       "        87, 299,   8,  75, 366, 492, 397, 739, 275, 630, 346, 865, 636,\n",
       "       468, 273, 223,  36, 337, 484, 324, 758, 785, 372, 797,  80,  39,\n",
       "       493, 439, 882, 941, 428,  38, 312, 811,  64, 280,  99, 279, 895,\n",
       "       736, 850, 598, 381, 784, 347, 863, 183, 741, 988, 720, 607, 737,\n",
       "       587, 479, 798, 731, 382, 284, 233, 606, 972, 752, 277, 608, 982,\n",
       "       117, 242,  55, 136, 461, 462, 590, 782,  74, 108, 557, 857, 909,\n",
       "        29, 958, 107, 491, 194, 420, 704, 457, 118, 723,  40, 481, 554,\n",
       "       406, 317, 430, 656, 519, 161, 810, 269, 285])"
      ]
     },
     "execution_count": 243,
     "metadata": {},
     "output_type": "execute_result"
    }
   ],
   "source": [
    "#Methode 3: \n",
    "Series(arr.ravel()).unique()"
   ]
  },
  {
   "cell_type": "code",
   "execution_count": null,
   "metadata": {
    "collapsed": true
   },
   "outputs": [],
   "source": [
    "#Vergleich Rechenzeiten np.unique VS pd.unique VS series.unique"
   ]
  },
  {
   "cell_type": "code",
   "execution_count": 227,
   "metadata": {
    "collapsed": false
   },
   "outputs": [
    {
     "name": "stdout",
     "output_type": "stream",
     "text": [
      "1000 loops, best of 3: 623 µs per loop\n"
     ]
    }
   ],
   "source": [
    "a = np.random.randint(0, 1000, 10000)\n",
    "%timeit np.unique(a)"
   ]
  },
  {
   "cell_type": "code",
   "execution_count": 228,
   "metadata": {
    "collapsed": false
   },
   "outputs": [
    {
     "name": "stdout",
     "output_type": "stream",
     "text": [
      "10000 loops, best of 3: 170 µs per loop\n"
     ]
    }
   ],
   "source": [
    "%timeit pd.unique(a)"
   ]
  },
  {
   "cell_type": "code",
   "execution_count": 231,
   "metadata": {
    "collapsed": false
   },
   "outputs": [
    {
     "name": "stdout",
     "output_type": "stream",
     "text": [
      "1000 loops, best of 3: 317 µs per loop\n"
     ]
    }
   ],
   "source": [
    "%timeit Series(a.ravel()).unique()"
   ]
  },
  {
   "cell_type": "code",
   "execution_count": 232,
   "metadata": {
    "collapsed": true
   },
   "outputs": [],
   "source": [
    "# \"Normale\" Python Codes\n",
    "\n"
   ]
  },
  {
   "cell_type": "code",
   "execution_count": 118,
   "metadata": {
    "collapsed": false
   },
   "outputs": [],
   "source": [
    "#Methode 4\n",
    "#sehr ineffizenter Code aber dank Moore's Law kein Problem\n",
    "def unique(array):\n",
    "    temp = [False]*(max(array)+1)\n",
    "    sorted_arr = []\n",
    "    for i in array:\n",
    "        temp[i] = i\n",
    "    for i in temp:\n",
    "        if type(i) is not bool:\n",
    "            sorted_arr.append(i)\n",
    "    return sorted_arr"
   ]
  },
  {
   "cell_type": "code",
   "execution_count": 119,
   "metadata": {
    "collapsed": false
   },
   "outputs": [
    {
     "name": "stdout",
     "output_type": "stream",
     "text": [
      "Enter an array: 1024, 3, 4, 5, 3 ,1024, 6\n",
      "10000 loops, best of 3: 177 µs per loop\n"
     ]
    },
    {
     "data": {
      "text/plain": [
       "[3, 4, 5, 6, 1024]"
      ]
     },
     "execution_count": 119,
     "metadata": {},
     "output_type": "execute_result"
    }
   ],
   "source": [
    "arr = input(\"Enter an array: \")\n",
    "%timeit unique(arr)\n",
    "unique(arr)"
   ]
  },
  {
   "cell_type": "code",
   "execution_count": 109,
   "metadata": {
    "collapsed": true
   },
   "outputs": [],
   "source": [
    "#Methode 5\n",
    "def unique(array):\n",
    "    sorted_arr = []\n",
    "    for i in array:\n",
    "        if i not in sorted_arr:\n",
    "            sorted_arr.append(i)\n",
    "    return sorted_arr"
   ]
  },
  {
   "cell_type": "code",
   "execution_count": 117,
   "metadata": {
    "collapsed": false
   },
   "outputs": [
    {
     "name": "stdout",
     "output_type": "stream",
     "text": [
      "The slowest run took 6.28 times longer than the fastest. This could mean that an intermediate result is being cached \n",
      "10000 loops, best of 3: 179 µs per loop\n"
     ]
    },
    {
     "data": {
      "text/plain": [
       "[3, 4, 5, 6, 1024]"
      ]
     },
     "execution_count": 117,
     "metadata": {},
     "output_type": "execute_result"
    }
   ],
   "source": [
    "%timeit unique([1024, 3, 4, 5, 3 ,1024, 6])\n",
    "unique([1024, 3, 4, 5, 3 ,1024, 6])"
   ]
  },
  {
   "cell_type": "code",
   "execution_count": null,
   "metadata": {
    "collapsed": true
   },
   "outputs": [],
   "source": []
  }
 ],
 "metadata": {
  "kernelspec": {
   "display_name": "Python 2",
   "language": "python",
   "name": "python2"
  },
  "language_info": {
   "codemirror_mode": {
    "name": "ipython",
    "version": 2
   },
   "file_extension": ".py",
   "mimetype": "text/x-python",
   "name": "python",
   "nbconvert_exporter": "python",
   "pygments_lexer": "ipython2",
   "version": "2.7.10"
  }
 },
 "nbformat": 4,
 "nbformat_minor": 0
}
