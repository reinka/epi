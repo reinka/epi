{
 "cells": [
  {
   "cell_type": "code",
   "execution_count": 257,
   "metadata": {
    "collapsed": true
   },
   "outputs": [],
   "source": [
    "import numpy as np\n",
    "import pandas as pd\n",
    "from pandas import Series\n",
    "import timeit, time"
   ]
  },
  {
   "cell_type": "code",
   "execution_count": 264,
   "metadata": {
    "collapsed": true
   },
   "outputs": [],
   "source": [
    "#Mehtode 1: Numpy. Einzelne Schritte zur Erklärung siehe im Anschluss.\n",
    "def find_unique_values_in_array():\n",
    "    arr = np.random.randint(input(\"Choose max value an array's element can have (integer): \")+1, \n",
    "                        size=(input(\"Choose dimension of the array (e.g. (5,3,20) for a 5 x 3 x 20 array): \")))\n",
    "    print \"Array: \", arr\n",
    "    start = time.time()\n",
    "    np.unique(arr)\n",
    "    end = time.time()\n",
    "    say = \"Dauer in Sekunden: \", end-start\n",
    "    print \"Sortiertes Array + Dauer:\"\n",
    "    return np.unique(arr), say"
   ]
  },
  {
   "cell_type": "code",
   "execution_count": 265,
   "metadata": {
    "collapsed": false
   },
   "outputs": [
    {
     "name": "stdout",
     "output_type": "stream",
     "text": [
      "Choose max value an array's element can have (integer): 1000\n",
      "Choose dimension of the array (e.g. (5,3,20) for a 5 x 3 x 20 array): (5,4,2,3)\n",
      "Array:  [[[[183 242 744]\n",
      "   [559 172 387]]\n",
      "\n",
      "  [[408 282 839]\n",
      "   [ 28 123 965]]\n",
      "\n",
      "  [[ 65 891 918]\n",
      "   [761 382 676]]\n",
      "\n",
      "  [[376 501  64]\n",
      "   [435 351 679]]]\n",
      "\n",
      "\n",
      " [[[908  56 660]\n",
      "   [ 28 171 907]]\n",
      "\n",
      "  [[819  36 871]\n",
      "   [633  46 825]]\n",
      "\n",
      "  [[131 207 657]\n",
      "   [871 533 573]]\n",
      "\n",
      "  [[392 366 797]\n",
      "   [855 618 506]]]\n",
      "\n",
      "\n",
      " [[[455 883 100]\n",
      "   [497 854 765]]\n",
      "\n",
      "  [[336 591 352]\n",
      "   [753  75 963]]\n",
      "\n",
      "  [[797 370 273]\n",
      "   [775 532 996]]\n",
      "\n",
      "  [[916 780 425]\n",
      "   [ 37 636 348]]]\n",
      "\n",
      "\n",
      " [[[ 96 817 565]\n",
      "   [906 789 640]]\n",
      "\n",
      "  [[688  28 213]\n",
      "   [707 422 428]]\n",
      "\n",
      "  [[384 647 987]\n",
      "   [780 769 376]]\n",
      "\n",
      "  [[341 536 778]\n",
      "   [680 915 170]]]\n",
      "\n",
      "\n",
      " [[[344 937 882]\n",
      "   [245 941 920]]\n",
      "\n",
      "  [[345 691 103]\n",
      "   [550 249 947]]\n",
      "\n",
      "  [[ 39 363 506]\n",
      "   [159 472   9]]\n",
      "\n",
      "  [[840 200 210]\n",
      "   [843 870 652]]]]\n",
      "Sortiertes Array + Dauer:\n"
     ]
    },
    {
     "data": {
      "text/plain": [
       "(array([  9,  28,  36,  37,  39,  46,  56,  64,  65,  75,  96, 100, 103,\n",
       "        123, 131, 159, 170, 171, 172, 183, 200, 207, 210, 213, 242, 245,\n",
       "        249, 273, 282, 336, 341, 344, 345, 348, 351, 352, 363, 366, 370,\n",
       "        376, 382, 384, 387, 392, 408, 422, 425, 428, 435, 455, 472, 497,\n",
       "        501, 506, 532, 533, 536, 550, 559, 565, 573, 591, 618, 633, 636,\n",
       "        640, 647, 652, 657, 660, 676, 679, 680, 688, 691, 707, 744, 753,\n",
       "        761, 765, 769, 775, 778, 780, 789, 797, 817, 819, 825, 839, 840,\n",
       "        843, 854, 855, 870, 871, 882, 883, 891, 906, 907, 908, 915, 916,\n",
       "        918, 920, 937, 941, 947, 963, 965, 987, 996]),\n",
       " ('Dauer in Sekunden: ', 4.792213439941406e-05))"
      ]
     },
     "execution_count": 265,
     "metadata": {},
     "output_type": "execute_result"
    }
   ],
   "source": [
    "find_unique_values_in_array()"
   ]
  },
  {
   "cell_type": "code",
   "execution_count": 201,
   "metadata": {
    "collapsed": false
   },
   "outputs": [
    {
     "name": "stdout",
     "output_type": "stream",
     "text": [
      "Enter an array: [3, 6, 7, 3, 2, 5, 6, 2, 4, 2]\n"
     ]
    },
    {
     "data": {
      "text/plain": [
       "array([2, 3, 4, 5, 6, 7])"
      ]
     },
     "execution_count": 201,
     "metadata": {},
     "output_type": "execute_result"
    }
   ],
   "source": [
    "arr = np.array(input(\"Enter an array: \"))\n",
    "np.unique(arr)"
   ]
  },
  {
   "cell_type": "code",
   "execution_count": 122,
   "metadata": {
    "collapsed": false
   },
   "outputs": [
    {
     "data": {
      "text/plain": [
       "(10,)"
      ]
     },
     "execution_count": 122,
     "metadata": {},
     "output_type": "execute_result"
    }
   ],
   "source": [
    "arr.shape"
   ]
  },
  {
   "cell_type": "code",
   "execution_count": 267,
   "metadata": {
    "collapsed": false
   },
   "outputs": [
    {
     "name": "stdout",
     "output_type": "stream",
     "text": [
      "Choose max value an array's element can have (integer): 1000\n",
      "Choose dimension of the array (e.g. (5,3,20) for a 5 x 3 x 20 array): (3,5,10)\n"
     ]
    },
    {
     "data": {
      "text/plain": [
       "array([[[199, 277, 197, 399, 397, 722, 139, 301, 229, 791],\n",
       "        [229, 137, 865, 257,  71, 861, 541, 566, 572, 262],\n",
       "        [ 58, 629, 405, 606, 522,  70, 564,  17, 553, 228],\n",
       "        [494,   1, 203, 414, 177, 366, 643, 224, 122, 809],\n",
       "        [182, 627, 361, 909, 262, 333, 314, 825,  20, 809]],\n",
       "\n",
       "       [[186, 614, 132,  96, 622, 172, 675, 949, 292, 539],\n",
       "        [158, 426, 517, 989,  50,  54, 844, 340, 163, 257],\n",
       "        [770,  74,  67, 546, 390, 371, 155, 662,  37, 350],\n",
       "        [502, 999, 377, 610, 645, 317, 548, 620, 433,  66],\n",
       "        [119, 979, 937, 136,  49, 988, 926, 270, 380, 800]],\n",
       "\n",
       "       [[629, 917, 823,  59, 563, 991, 269, 190,  92, 741],\n",
       "        [668, 881,  19, 611, 983, 881, 882, 722, 471, 116],\n",
       "        [416, 979, 590, 116, 122, 251, 102, 545, 574, 792],\n",
       "        [320, 625, 735, 815, 747,  94, 823, 839, 296, 315],\n",
       "        [413, 771, 408, 824, 606, 908, 141, 758, 233, 630]]])"
      ]
     },
     "execution_count": 267,
     "metadata": {},
     "output_type": "execute_result"
    }
   ],
   "source": [
    "arr = np.random.randint(input(\"Choose max value an array's element can have (integer): \")+1, \n",
    "                        size=(input(\"Choose dimension of the array (e.g. (5,3,20) for a 5 x 3 x 20 array): \")))\n",
    "arr"
   ]
  },
  {
   "cell_type": "code",
   "execution_count": 268,
   "metadata": {
    "collapsed": false
   },
   "outputs": [
    {
     "data": {
      "text/plain": [
       "(3, 5, 10)"
      ]
     },
     "execution_count": 268,
     "metadata": {},
     "output_type": "execute_result"
    }
   ],
   "source": [
    "arr.shape"
   ]
  },
  {
   "cell_type": "code",
   "execution_count": 269,
   "metadata": {
    "collapsed": false
   },
   "outputs": [
    {
     "name": "stdout",
     "output_type": "stream",
     "text": [
      "10000 loops, best of 3: 22.7 µs per loop\n"
     ]
    },
    {
     "data": {
      "text/plain": [
       "array([  1,  17,  19,  20,  37,  49,  50,  54,  58,  59,  66,  67,  70,\n",
       "        71,  74,  92,  94,  96, 102, 116, 119, 122, 132, 136, 137, 139,\n",
       "       141, 155, 158, 163, 172, 177, 182, 186, 190, 197, 199, 203, 224,\n",
       "       228, 229, 233, 251, 257, 262, 269, 270, 277, 292, 296, 301, 314,\n",
       "       315, 317, 320, 333, 340, 350, 361, 366, 371, 377, 380, 390, 397,\n",
       "       399, 405, 408, 413, 414, 416, 426, 433, 471, 494, 502, 517, 522,\n",
       "       539, 541, 545, 546, 548, 553, 563, 564, 566, 572, 574, 590, 606,\n",
       "       610, 611, 614, 620, 622, 625, 627, 629, 630, 643, 645, 662, 668,\n",
       "       675, 722, 735, 741, 747, 758, 770, 771, 791, 792, 800, 809, 815,\n",
       "       823, 824, 825, 839, 844, 861, 865, 881, 882, 908, 909, 917, 926,\n",
       "       937, 949, 979, 983, 988, 989, 991, 999])"
      ]
     },
     "execution_count": 269,
     "metadata": {},
     "output_type": "execute_result"
    }
   ],
   "source": [
    "%timeit np.unique(arr)\n",
    "np.unique(arr)"
   ]
  },
  {
   "cell_type": "code",
   "execution_count": 270,
   "metadata": {
    "collapsed": false
   },
   "outputs": [
    {
     "data": {
      "text/plain": [
       "(138,)"
      ]
     },
     "execution_count": 270,
     "metadata": {},
     "output_type": "execute_result"
    }
   ],
   "source": [
    "np.unique(arr).shape"
   ]
  },
  {
   "cell_type": "code",
   "execution_count": 271,
   "metadata": {
    "collapsed": false
   },
   "outputs": [
    {
     "data": {
      "text/plain": [
       "array([199, 277, 197, 399, 397, 722, 139, 301, 229, 791, 229, 137, 865,\n",
       "       257,  71, 861, 541, 566, 572, 262,  58, 629, 405, 606, 522,  70,\n",
       "       564,  17, 553, 228, 494,   1, 203, 414, 177, 366, 643, 224, 122,\n",
       "       809, 182, 627, 361, 909, 262, 333, 314, 825,  20, 809, 186, 614,\n",
       "       132,  96, 622, 172, 675, 949, 292, 539, 158, 426, 517, 989,  50,\n",
       "        54, 844, 340, 163, 257, 770,  74,  67, 546, 390, 371, 155, 662,\n",
       "        37, 350, 502, 999, 377, 610, 645, 317, 548, 620, 433,  66, 119,\n",
       "       979, 937, 136,  49, 988, 926, 270, 380, 800, 629, 917, 823,  59,\n",
       "       563, 991, 269, 190,  92, 741, 668, 881,  19, 611, 983, 881, 882,\n",
       "       722, 471, 116, 416, 979, 590, 116, 122, 251, 102, 545, 574, 792,\n",
       "       320, 625, 735, 815, 747,  94, 823, 839, 296, 315, 413, 771, 408,\n",
       "       824, 606, 908, 141, 758, 233, 630])"
      ]
     },
     "execution_count": 271,
     "metadata": {},
     "output_type": "execute_result"
    }
   ],
   "source": [
    "#Methode 2: pandas.unique(). Dafür muss Array jedoch in 1D vorliegen -> Umwandlung des 3D arrays in 1D. \n",
    "arr.ravel()"
   ]
  },
  {
   "cell_type": "code",
   "execution_count": 272,
   "metadata": {
    "collapsed": false
   },
   "outputs": [
    {
     "data": {
      "text/plain": [
       "(150,)"
      ]
     },
     "execution_count": 272,
     "metadata": {},
     "output_type": "execute_result"
    }
   ],
   "source": [
    "#Test: Dimension des umgwandelten Arrays\n",
    "arr.ravel().shape"
   ]
  },
  {
   "cell_type": "code",
   "execution_count": 273,
   "metadata": {
    "collapsed": false
   },
   "outputs": [
    {
     "data": {
      "text/plain": [
       "array([199, 277, 197, 399, 397, 722, 139, 301, 229, 791, 137, 865, 257,\n",
       "        71, 861, 541, 566, 572, 262,  58, 629, 405, 606, 522,  70, 564,\n",
       "        17, 553, 228, 494,   1, 203, 414, 177, 366, 643, 224, 122, 809,\n",
       "       182, 627, 361, 909, 333, 314, 825,  20, 186, 614, 132,  96, 622,\n",
       "       172, 675, 949, 292, 539, 158, 426, 517, 989,  50,  54, 844, 340,\n",
       "       163, 770,  74,  67, 546, 390, 371, 155, 662,  37, 350, 502, 999,\n",
       "       377, 610, 645, 317, 548, 620, 433,  66, 119, 979, 937, 136,  49,\n",
       "       988, 926, 270, 380, 800, 917, 823,  59, 563, 991, 269, 190,  92,\n",
       "       741, 668, 881,  19, 611, 983, 882, 471, 116, 416, 590, 251, 102,\n",
       "       545, 574, 792, 320, 625, 735, 815, 747,  94, 839, 296, 315, 413,\n",
       "       771, 408, 824, 908, 141, 758, 233, 630])"
      ]
     },
     "execution_count": 273,
     "metadata": {},
     "output_type": "execute_result"
    }
   ],
   "source": [
    "pd.unique(arr.ravel())"
   ]
  },
  {
   "cell_type": "code",
   "execution_count": 274,
   "metadata": {
    "collapsed": false
   },
   "outputs": [
    {
     "data": {
      "text/plain": [
       "(138,)"
      ]
     },
     "execution_count": 274,
     "metadata": {},
     "output_type": "execute_result"
    }
   ],
   "source": [
    "#Test, ob genaso viele Elemente wie in np.unique()\n",
    "pd.unique(arr.ravel()).shape"
   ]
  },
  {
   "cell_type": "code",
   "execution_count": 275,
   "metadata": {
    "collapsed": false
   },
   "outputs": [
    {
     "data": {
      "text/plain": [
       "array([199, 277, 197, 399, 397, 722, 139, 301, 229, 791, 137, 865, 257,\n",
       "        71, 861, 541, 566, 572, 262,  58, 629, 405, 606, 522,  70, 564,\n",
       "        17, 553, 228, 494,   1, 203, 414, 177, 366, 643, 224, 122, 809,\n",
       "       182, 627, 361, 909, 333, 314, 825,  20, 186, 614, 132,  96, 622,\n",
       "       172, 675, 949, 292, 539, 158, 426, 517, 989,  50,  54, 844, 340,\n",
       "       163, 770,  74,  67, 546, 390, 371, 155, 662,  37, 350, 502, 999,\n",
       "       377, 610, 645, 317, 548, 620, 433,  66, 119, 979, 937, 136,  49,\n",
       "       988, 926, 270, 380, 800, 917, 823,  59, 563, 991, 269, 190,  92,\n",
       "       741, 668, 881,  19, 611, 983, 882, 471, 116, 416, 590, 251, 102,\n",
       "       545, 574, 792, 320, 625, 735, 815, 747,  94, 839, 296, 315, 413,\n",
       "       771, 408, 824, 908, 141, 758, 233, 630])"
      ]
     },
     "execution_count": 275,
     "metadata": {},
     "output_type": "execute_result"
    }
   ],
   "source": [
    "#Methode 3: Series.unique() \n",
    "Series(arr.ravel()).unique()"
   ]
  },
  {
   "cell_type": "code",
   "execution_count": null,
   "metadata": {
    "collapsed": true
   },
   "outputs": [],
   "source": [
    "#Vergleich Rechenzeiten np.unique VS pd.unique VS series.unique"
   ]
  },
  {
   "cell_type": "code",
   "execution_count": 227,
   "metadata": {
    "collapsed": false
   },
   "outputs": [
    {
     "name": "stdout",
     "output_type": "stream",
     "text": [
      "1000 loops, best of 3: 623 µs per loop\n"
     ]
    }
   ],
   "source": [
    "a = np.random.randint(0, 1000, 10000)\n",
    "%timeit np.unique(a)"
   ]
  },
  {
   "cell_type": "code",
   "execution_count": 228,
   "metadata": {
    "collapsed": false
   },
   "outputs": [
    {
     "name": "stdout",
     "output_type": "stream",
     "text": [
      "10000 loops, best of 3: 170 µs per loop\n"
     ]
    }
   ],
   "source": [
    "%timeit pd.unique(a)"
   ]
  },
  {
   "cell_type": "code",
   "execution_count": 231,
   "metadata": {
    "collapsed": false
   },
   "outputs": [
    {
     "name": "stdout",
     "output_type": "stream",
     "text": [
      "1000 loops, best of 3: 317 µs per loop\n"
     ]
    }
   ],
   "source": [
    "%timeit Series(a.ravel()).unique()"
   ]
  },
  {
   "cell_type": "code",
   "execution_count": 232,
   "metadata": {
    "collapsed": true
   },
   "outputs": [],
   "source": [
    "# \"Normale\" Python Codes\n",
    "\n"
   ]
  },
  {
   "cell_type": "code",
   "execution_count": 118,
   "metadata": {
    "collapsed": false
   },
   "outputs": [],
   "source": [
    "#Methode 4\n",
    "#sehr ineffizenter Code aber dank Moore's Law kein Problem\n",
    "def unique(array):\n",
    "    temp = [False]*(max(array)+1)\n",
    "    sorted_arr = []\n",
    "    for i in array:\n",
    "        temp[i] = i\n",
    "    for i in temp:\n",
    "        if type(i) is not bool:\n",
    "            sorted_arr.append(i)\n",
    "    return sorted_arr"
   ]
  },
  {
   "cell_type": "code",
   "execution_count": 119,
   "metadata": {
    "collapsed": false
   },
   "outputs": [
    {
     "name": "stdout",
     "output_type": "stream",
     "text": [
      "Enter an array: 1024, 3, 4, 5, 3 ,1024, 6\n",
      "10000 loops, best of 3: 177 µs per loop\n"
     ]
    },
    {
     "data": {
      "text/plain": [
       "[3, 4, 5, 6, 1024]"
      ]
     },
     "execution_count": 119,
     "metadata": {},
     "output_type": "execute_result"
    }
   ],
   "source": [
    "arr = input(\"Enter an array: \")\n",
    "%timeit unique(arr)\n",
    "unique(arr)"
   ]
  },
  {
   "cell_type": "code",
   "execution_count": 109,
   "metadata": {
    "collapsed": true
   },
   "outputs": [],
   "source": [
    "#Methode 5\n",
    "def unique(array):\n",
    "    sorted_arr = []\n",
    "    for i in array:\n",
    "        if i not in sorted_arr:\n",
    "            sorted_arr.append(i)\n",
    "    return sorted_arr"
   ]
  },
  {
   "cell_type": "code",
   "execution_count": 117,
   "metadata": {
    "collapsed": false
   },
   "outputs": [
    {
     "name": "stdout",
     "output_type": "stream",
     "text": [
      "The slowest run took 6.28 times longer than the fastest. This could mean that an intermediate result is being cached \n",
      "10000 loops, best of 3: 179 µs per loop\n"
     ]
    },
    {
     "data": {
      "text/plain": [
       "[3, 4, 5, 6, 1024]"
      ]
     },
     "execution_count": 117,
     "metadata": {},
     "output_type": "execute_result"
    }
   ],
   "source": [
    "%timeit unique([1024, 3, 4, 5, 3 ,1024, 6])\n",
    "unique([1024, 3, 4, 5, 3 ,1024, 6])"
   ]
  },
  {
   "cell_type": "code",
   "execution_count": null,
   "metadata": {
    "collapsed": true
   },
   "outputs": [],
   "source": []
  }
 ],
 "metadata": {
  "kernelspec": {
   "display_name": "Python 2",
   "language": "python",
   "name": "python2"
  },
  "language_info": {
   "codemirror_mode": {
    "name": "ipython",
    "version": 2
   },
   "file_extension": ".py",
   "mimetype": "text/x-python",
   "name": "python",
   "nbconvert_exporter": "python",
   "pygments_lexer": "ipython2",
   "version": "2.7.10"
  }
 },
 "nbformat": 4,
 "nbformat_minor": 0
}
