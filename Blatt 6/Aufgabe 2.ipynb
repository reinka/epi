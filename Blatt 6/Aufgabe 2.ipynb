{
 "cells": [
  {
   "cell_type": "code",
   "execution_count": 156,
   "metadata": {
    "collapsed": true
   },
   "outputs": [],
   "source": [
    "import numpy as np\n",
    "import pandas as pd\n",
    "from pandas import Series\n",
    "import timeit"
   ]
  },
  {
   "cell_type": "code",
   "execution_count": 201,
   "metadata": {
    "collapsed": false
   },
   "outputs": [
    {
     "name": "stdout",
     "output_type": "stream",
     "text": [
      "Enter an array: [3, 6, 7, 3, 2, 5, 6, 2, 4, 2]\n"
     ]
    },
    {
     "data": {
      "text/plain": [
       "array([2, 3, 4, 5, 6, 7])"
      ]
     },
     "execution_count": 201,
     "metadata": {},
     "output_type": "execute_result"
    }
   ],
   "source": [
    "#Mehtode 1: Numpy\n",
    "arr = np.array(input(\"Enter an array: \"))\n",
    "np.unique(arr)"
   ]
  },
  {
   "cell_type": "code",
   "execution_count": 122,
   "metadata": {
    "collapsed": false
   },
   "outputs": [
    {
     "data": {
      "text/plain": [
       "(10,)"
      ]
     },
     "execution_count": 122,
     "metadata": {},
     "output_type": "execute_result"
    }
   ],
   "source": [
    "arr.shape"
   ]
  },
  {
   "cell_type": "code",
   "execution_count": 202,
   "metadata": {
    "collapsed": false
   },
   "outputs": [
    {
     "name": "stdout",
     "output_type": "stream",
     "text": [
      "Choose max value an array's element can have (integer): 1000\n",
      "Choose dimension of the array (e.g. (5,3,20) for a 5 x 3 x 20 array)(3,5,10)\n"
     ]
    },
    {
     "data": {
      "text/plain": [
       "array([[[760,  43, 321, 509,  74, 446, 439,  74, 205,  79],\n",
       "        [386, 121,  50, 749, 665, 666, 892, 500, 691, 159],\n",
       "        [871, 559, 694, 216, 856, 171, 804, 996, 507, 521],\n",
       "        [526,   8, 838, 233, 783, 530, 477, 300, 633, 309],\n",
       "        [700, 742,   5, 128, 766, 169, 437, 996, 602, 285]],\n",
       "\n",
       "       [[399, 590, 733, 566, 157, 966, 980, 205,  91, 423],\n",
       "        [444, 585, 694, 574, 266, 606, 249, 168, 653,  87],\n",
       "        [725, 268, 634, 796, 111, 132,  16, 518, 759, 446],\n",
       "        [898, 340, 430, 131, 437, 276, 199, 687, 656,  93],\n",
       "        [535, 787,   4, 503, 983, 381, 415, 145, 586,  52]],\n",
       "\n",
       "       [[787, 992, 835, 251, 661, 248, 796, 941, 976,  76],\n",
       "        [419, 705, 505, 526, 509, 625, 831, 467,   1, 182],\n",
       "        [971, 789, 612, 884,  11, 730, 299, 827, 489, 224],\n",
       "        [955, 182, 986, 259, 289,  90, 843,  23, 410, 314],\n",
       "        [984, 763, 747, 930, 250, 863, 509, 493, 918, 422]]])"
      ]
     },
     "execution_count": 202,
     "metadata": {},
     "output_type": "execute_result"
    }
   ],
   "source": [
    "arr = np.random.randint(input(\"Choose max value an array's element can have (integer): \")+1, \n",
    "                        size=(input(\"Choose dimension of the array (e.g. (5,3,20) for a 5 x 3 x 20 array)\")))\n",
    "arr"
   ]
  },
  {
   "cell_type": "code",
   "execution_count": 203,
   "metadata": {
    "collapsed": false
   },
   "outputs": [
    {
     "data": {
      "text/plain": [
       "(3, 5, 10)"
      ]
     },
     "execution_count": 203,
     "metadata": {},
     "output_type": "execute_result"
    }
   ],
   "source": [
    "arr.shape"
   ]
  },
  {
   "cell_type": "code",
   "execution_count": 204,
   "metadata": {
    "collapsed": false
   },
   "outputs": [
    {
     "name": "stdout",
     "output_type": "stream",
     "text": [
      "The slowest run took 5.18 times longer than the fastest. This could mean that an intermediate result is being cached \n",
      "10000 loops, best of 3: 22.8 µs per loop\n"
     ]
    },
    {
     "data": {
      "text/plain": [
       "array([  1,   4,   5,   8,  11,  16,  23,  43,  50,  52,  74,  76,  79,\n",
       "        87,  90,  91,  93, 111, 121, 128, 131, 132, 145, 157, 159, 168,\n",
       "       169, 171, 182, 199, 205, 216, 224, 233, 248, 249, 250, 251, 259,\n",
       "       266, 268, 276, 285, 289, 299, 300, 309, 314, 321, 340, 381, 386,\n",
       "       399, 410, 415, 419, 422, 423, 430, 437, 439, 444, 446, 467, 477,\n",
       "       489, 493, 500, 503, 505, 507, 509, 518, 521, 526, 530, 535, 559,\n",
       "       566, 574, 585, 586, 590, 602, 606, 612, 625, 633, 634, 653, 656,\n",
       "       661, 665, 666, 687, 691, 694, 700, 705, 725, 730, 733, 742, 747,\n",
       "       749, 759, 760, 763, 766, 783, 787, 789, 796, 804, 827, 831, 835,\n",
       "       838, 843, 856, 863, 871, 884, 892, 898, 918, 930, 941, 955, 966,\n",
       "       971, 976, 980, 983, 984, 986, 992, 996])"
      ]
     },
     "execution_count": 204,
     "metadata": {},
     "output_type": "execute_result"
    }
   ],
   "source": [
    "%timeit np.unique(arr)\n",
    "np.unique(arr)"
   ]
  },
  {
   "cell_type": "code",
   "execution_count": 205,
   "metadata": {
    "collapsed": false
   },
   "outputs": [
    {
     "data": {
      "text/plain": [
       "(138,)"
      ]
     },
     "execution_count": 205,
     "metadata": {},
     "output_type": "execute_result"
    }
   ],
   "source": [
    "np.unique(arr).shape"
   ]
  },
  {
   "cell_type": "code",
   "execution_count": 213,
   "metadata": {
    "collapsed": false
   },
   "outputs": [
    {
     "data": {
      "text/plain": [
       "array([760,  43, 321, 509,  74, 446, 439,  74, 205,  79, 386, 121,  50,\n",
       "       749, 665, 666, 892, 500, 691, 159, 871, 559, 694, 216, 856, 171,\n",
       "       804, 996, 507, 521, 526,   8, 838, 233, 783, 530, 477, 300, 633,\n",
       "       309, 700, 742,   5, 128, 766, 169, 437, 996, 602, 285, 399, 590,\n",
       "       733, 566, 157, 966, 980, 205,  91, 423, 444, 585, 694, 574, 266,\n",
       "       606, 249, 168, 653,  87, 725, 268, 634, 796, 111, 132,  16, 518,\n",
       "       759, 446, 898, 340, 430, 131, 437, 276, 199, 687, 656,  93, 535,\n",
       "       787,   4, 503, 983, 381, 415, 145, 586,  52, 787, 992, 835, 251,\n",
       "       661, 248, 796, 941, 976,  76, 419, 705, 505, 526, 509, 625, 831,\n",
       "       467,   1, 182, 971, 789, 612, 884,  11, 730, 299, 827, 489, 224,\n",
       "       955, 182, 986, 259, 289,  90, 843,  23, 410, 314, 984, 763, 747,\n",
       "       930, 250, 863, 509, 493, 918, 422])"
      ]
     },
     "execution_count": 213,
     "metadata": {},
     "output_type": "execute_result"
    }
   ],
   "source": [
    "#Methode 2: pandas.unique(). Dafür muss Array jedoch in 1D vorliegen -> Umwandlung des 3D arrays in 1D. \n",
    "arr.ravel()"
   ]
  },
  {
   "cell_type": "code",
   "execution_count": 215,
   "metadata": {
    "collapsed": false
   },
   "outputs": [
    {
     "data": {
      "text/plain": [
       "(150,)"
      ]
     },
     "execution_count": 215,
     "metadata": {},
     "output_type": "execute_result"
    }
   ],
   "source": [
    "#Test: Dimension des umgwandelten Arrays\n",
    "arr.ravel().shape"
   ]
  },
  {
   "cell_type": "code",
   "execution_count": 216,
   "metadata": {
    "collapsed": false
   },
   "outputs": [
    {
     "data": {
      "text/plain": [
       "array([760,  43, 321, 509,  74, 446, 439, 205,  79, 386, 121,  50, 749,\n",
       "       665, 666, 892, 500, 691, 159, 871, 559, 694, 216, 856, 171, 804,\n",
       "       996, 507, 521, 526,   8, 838, 233, 783, 530, 477, 300, 633, 309,\n",
       "       700, 742,   5, 128, 766, 169, 437, 602, 285, 399, 590, 733, 566,\n",
       "       157, 966, 980,  91, 423, 444, 585, 574, 266, 606, 249, 168, 653,\n",
       "        87, 725, 268, 634, 796, 111, 132,  16, 518, 759, 898, 340, 430,\n",
       "       131, 276, 199, 687, 656,  93, 535, 787,   4, 503, 983, 381, 415,\n",
       "       145, 586,  52, 992, 835, 251, 661, 248, 941, 976,  76, 419, 705,\n",
       "       505, 625, 831, 467,   1, 182, 971, 789, 612, 884,  11, 730, 299,\n",
       "       827, 489, 224, 955, 986, 259, 289,  90, 843,  23, 410, 314, 984,\n",
       "       763, 747, 930, 250, 863, 493, 918, 422])"
      ]
     },
     "execution_count": 216,
     "metadata": {},
     "output_type": "execute_result"
    }
   ],
   "source": [
    "#series.unique() \n",
    "pd.unique(arr.ravel())"
   ]
  },
  {
   "cell_type": "code",
   "execution_count": 217,
   "metadata": {
    "collapsed": false
   },
   "outputs": [
    {
     "data": {
      "text/plain": [
       "(138,)"
      ]
     },
     "execution_count": 217,
     "metadata": {},
     "output_type": "execute_result"
    }
   ],
   "source": [
    "#Test, ob genaso viele Elemente wie in np.unique()\n",
    "pd.unique(arr.ravel()).shape"
   ]
  },
  {
   "cell_type": "code",
   "execution_count": 226,
   "metadata": {
    "collapsed": false
   },
   "outputs": [
    {
     "data": {
      "text/plain": [
       "array([760,  43, 321, 509,  74, 446, 439, 205,  79, 386, 121,  50, 749,\n",
       "       665, 666, 892, 500, 691, 159, 871, 559, 694, 216, 856, 171, 804,\n",
       "       996, 507, 521, 526,   8, 838, 233, 783, 530, 477, 300, 633, 309,\n",
       "       700, 742,   5, 128, 766, 169, 437, 602, 285, 399, 590, 733, 566,\n",
       "       157, 966, 980,  91, 423, 444, 585, 574, 266, 606, 249, 168, 653,\n",
       "        87, 725, 268, 634, 796, 111, 132,  16, 518, 759, 898, 340, 430,\n",
       "       131, 276, 199, 687, 656,  93, 535, 787,   4, 503, 983, 381, 415,\n",
       "       145, 586,  52, 992, 835, 251, 661, 248, 941, 976,  76, 419, 705,\n",
       "       505, 625, 831, 467,   1, 182, 971, 789, 612, 884,  11, 730, 299,\n",
       "       827, 489, 224, 955, 986, 259, 289,  90, 843,  23, 410, 314, 984,\n",
       "       763, 747, 930, 250, 863, 493, 918, 422])"
      ]
     },
     "execution_count": 226,
     "metadata": {},
     "output_type": "execute_result"
    }
   ],
   "source": [
    "#Methode 3: \n",
    "Series(arr.ravel()).unique()"
   ]
  },
  {
   "cell_type": "code",
   "execution_count": null,
   "metadata": {
    "collapsed": true
   },
   "outputs": [],
   "source": [
    "#Vergleich Rechenzeiten np.unique VS pd.unique VS series.unique"
   ]
  },
  {
   "cell_type": "code",
   "execution_count": 227,
   "metadata": {
    "collapsed": false
   },
   "outputs": [
    {
     "name": "stdout",
     "output_type": "stream",
     "text": [
      "1000 loops, best of 3: 623 µs per loop\n"
     ]
    }
   ],
   "source": [
    "a = np.random.randint(0, 1000, 10000)\n",
    "%timeit np.unique(a)"
   ]
  },
  {
   "cell_type": "code",
   "execution_count": 228,
   "metadata": {
    "collapsed": false
   },
   "outputs": [
    {
     "name": "stdout",
     "output_type": "stream",
     "text": [
      "10000 loops, best of 3: 170 µs per loop\n"
     ]
    }
   ],
   "source": [
    "%timeit pd.unique(a)"
   ]
  },
  {
   "cell_type": "code",
   "execution_count": 231,
   "metadata": {
    "collapsed": false
   },
   "outputs": [
    {
     "name": "stdout",
     "output_type": "stream",
     "text": [
      "1000 loops, best of 3: 317 µs per loop\n"
     ]
    }
   ],
   "source": [
    "%timeit Series(a.ravel()).unique()"
   ]
  },
  {
   "cell_type": "code",
   "execution_count": 232,
   "metadata": {
    "collapsed": true
   },
   "outputs": [],
   "source": [
    "# \"Normale\" Python Codes\n",
    "\n"
   ]
  },
  {
   "cell_type": "code",
   "execution_count": 118,
   "metadata": {
    "collapsed": false
   },
   "outputs": [],
   "source": [
    "#Methode 4\n",
    "#sehr ineffizenter Code aber dank Moore's Law kein Problem\n",
    "def unique(array):\n",
    "    temp = [False]*(max(array)+1)\n",
    "    sorted_arr = []\n",
    "    for i in array:\n",
    "        temp[i] = i\n",
    "    for i in temp:\n",
    "        if type(i) is not bool:\n",
    "            sorted_arr.append(i)\n",
    "    return sorted_arr"
   ]
  },
  {
   "cell_type": "code",
   "execution_count": 119,
   "metadata": {
    "collapsed": false
   },
   "outputs": [
    {
     "name": "stdout",
     "output_type": "stream",
     "text": [
      "Enter an array: 1024, 3, 4, 5, 3 ,1024, 6\n",
      "10000 loops, best of 3: 177 µs per loop\n"
     ]
    },
    {
     "data": {
      "text/plain": [
       "[3, 4, 5, 6, 1024]"
      ]
     },
     "execution_count": 119,
     "metadata": {},
     "output_type": "execute_result"
    }
   ],
   "source": [
    "arr = input(\"Enter an array: \")\n",
    "%timeit unique(arr)\n",
    "unique(arr)"
   ]
  },
  {
   "cell_type": "code",
   "execution_count": 109,
   "metadata": {
    "collapsed": true
   },
   "outputs": [],
   "source": [
    "#Methode 5\n",
    "def unique(array):\n",
    "    sorted_arr = []\n",
    "    for i in array:\n",
    "        if i not in sorted_arr:\n",
    "            sorted_arr.append(i)\n",
    "    return sorted_arr"
   ]
  },
  {
   "cell_type": "code",
   "execution_count": 117,
   "metadata": {
    "collapsed": false
   },
   "outputs": [
    {
     "name": "stdout",
     "output_type": "stream",
     "text": [
      "The slowest run took 6.28 times longer than the fastest. This could mean that an intermediate result is being cached \n",
      "10000 loops, best of 3: 179 µs per loop\n"
     ]
    },
    {
     "data": {
      "text/plain": [
       "[3, 4, 5, 6, 1024]"
      ]
     },
     "execution_count": 117,
     "metadata": {},
     "output_type": "execute_result"
    }
   ],
   "source": [
    "%timeit unique([1024, 3, 4, 5, 3 ,1024, 6])\n",
    "unique([1024, 3, 4, 5, 3 ,1024, 6])"
   ]
  },
  {
   "cell_type": "code",
   "execution_count": null,
   "metadata": {
    "collapsed": true
   },
   "outputs": [],
   "source": []
  }
 ],
 "metadata": {
  "kernelspec": {
   "display_name": "Python 2",
   "language": "python",
   "name": "python2"
  },
  "language_info": {
   "codemirror_mode": {
    "name": "ipython",
    "version": 2
   },
   "file_extension": ".py",
   "mimetype": "text/x-python",
   "name": "python",
   "nbconvert_exporter": "python",
   "pygments_lexer": "ipython2",
   "version": "2.7.10"
  }
 },
 "nbformat": 4,
 "nbformat_minor": 0
}
