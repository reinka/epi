{
 "cells": [
  {
   "cell_type": "code",
   "execution_count": 87,
   "metadata": {
    "collapsed": true
   },
   "outputs": [],
   "source": [
    "import numpy as np\n",
    "import pandas as pd"
   ]
  },
  {
   "cell_type": "code",
   "execution_count": 62,
   "metadata": {
    "collapsed": false
   },
   "outputs": [
    {
     "name": "stdout",
     "output_type": "stream",
     "text": [
      "Enter an array: [3, 6, 7, 3, 2, 5, 6, 2, 4, 2]\n"
     ]
    },
    {
     "data": {
      "text/plain": [
       "array([2, 3, 4, 5, 6, 7])"
      ]
     },
     "execution_count": 62,
     "metadata": {},
     "output_type": "execute_result"
    }
   ],
   "source": [
    "arr = np.array(input(\"Enter an array: \"))\n",
    "sorted_arr = np.unique(arr)\n",
    "sorted_arr"
   ]
  },
  {
   "cell_type": "code",
   "execution_count": 63,
   "metadata": {
    "collapsed": false
   },
   "outputs": [
    {
     "data": {
      "text/plain": [
       "(10,)"
      ]
     },
     "execution_count": 63,
     "metadata": {},
     "output_type": "execute_result"
    }
   ],
   "source": [
    "arr.shape"
   ]
  },
  {
   "cell_type": "code",
   "execution_count": 82,
   "metadata": {
    "collapsed": false
   },
   "outputs": [
    {
     "name": "stdout",
     "output_type": "stream",
     "text": [
      "Choose max value an array's element can have (integer): 1000\n",
      "Choose dimension of the array (e.g. (5,3,20) for a 5 x 3 x 20 array)3,5,8\n"
     ]
    },
    {
     "data": {
      "text/plain": [
       "array([[[676, 867, 483,  17, 696, 769, 454, 829],\n",
       "        [942, 390, 103, 262,  93, 586, 403, 721],\n",
       "        [616, 484, 838, 733,  15, 339, 214, 122],\n",
       "        [ 70, 538, 595, 368, 217, 417, 634, 231],\n",
       "        [577, 631, 660, 677, 698, 798, 219, 624]],\n",
       "\n",
       "       [[666,  77,  15, 172, 510, 432, 851, 511],\n",
       "        [887, 446, 692, 418, 517, 837, 167, 155],\n",
       "        [ 96, 437, 850, 705, 542, 883, 983, 164],\n",
       "        [625, 568, 909,  41, 351, 127, 360, 876],\n",
       "        [334, 657, 916, 437, 700, 534, 625, 376]],\n",
       "\n",
       "       [[112, 365, 888, 361, 208, 395, 151, 529],\n",
       "        [ 19, 437, 805, 175, 296, 563, 769, 437],\n",
       "        [819, 197, 235,  22, 799, 156, 395, 810],\n",
       "        [311, 111, 545, 513, 458, 386, 636, 269],\n",
       "        [847, 120, 804,  24, 219, 946, 319, 434]]])"
      ]
     },
     "execution_count": 82,
     "metadata": {},
     "output_type": "execute_result"
    }
   ],
   "source": [
    "arr = np.random.randint(input(\"Choose max value an array's element can have (integer): \")+1, size=(input(\"Choose dimension of the array (e.g. (5,3,20) for a 5 x 3 x 20 array)\")))\n",
    "arr"
   ]
  },
  {
   "cell_type": "code",
   "execution_count": 83,
   "metadata": {
    "collapsed": false
   },
   "outputs": [
    {
     "data": {
      "text/plain": [
       "array([ 15,  17,  19,  22,  24,  41,  70,  77,  93,  96, 103, 111, 112,\n",
       "       120, 122, 127, 151, 155, 156, 164, 167, 172, 175, 197, 208, 214,\n",
       "       217, 219, 231, 235, 262, 269, 296, 311, 319, 334, 339, 351, 360,\n",
       "       361, 365, 368, 376, 386, 390, 395, 403, 417, 418, 432, 434, 437,\n",
       "       446, 454, 458, 483, 484, 510, 511, 513, 517, 529, 534, 538, 542,\n",
       "       545, 563, 568, 577, 586, 595, 616, 624, 625, 631, 634, 636, 657,\n",
       "       660, 666, 676, 677, 692, 696, 698, 700, 705, 721, 733, 769, 798,\n",
       "       799, 804, 805, 810, 819, 829, 837, 838, 847, 850, 851, 867, 876,\n",
       "       883, 887, 888, 909, 916, 942, 946, 983])"
      ]
     },
     "execution_count": 83,
     "metadata": {},
     "output_type": "execute_result"
    }
   ],
   "source": [
    "np.unique(arr)"
   ]
  },
  {
   "cell_type": "code",
   "execution_count": 85,
   "metadata": {
    "collapsed": false
   },
   "outputs": [
    {
     "name": "stdout",
     "output_type": "stream",
     "text": [
      "1000 loops, best of 3: 613 µs per loop\n"
     ]
    }
   ],
   "source": [
    "a = np.random.randint(0, 1000, 10000)\n",
    "%timeit np.unique(a)"
   ]
  },
  {
   "cell_type": "code",
   "execution_count": 88,
   "metadata": {
    "collapsed": false
   },
   "outputs": [
    {
     "name": "stdout",
     "output_type": "stream",
     "text": [
      "The slowest run took 227.56 times longer than the fastest. This could mean that an intermediate result is being cached \n",
      "10000 loops, best of 3: 173 µs per loop\n"
     ]
    }
   ],
   "source": [
    "%timeit pd.unique(a)"
   ]
  },
  {
   "cell_type": "code",
   "execution_count": 89,
   "metadata": {
    "collapsed": false
   },
   "outputs": [
    {
     "data": {
      "text/plain": [
       "array([838, 144, 298, ..., 129, 577, 795])"
      ]
     },
     "execution_count": 89,
     "metadata": {},
     "output_type": "execute_result"
    }
   ],
   "source": [
    "a"
   ]
  },
  {
   "cell_type": "code",
   "execution_count": null,
   "metadata": {
    "collapsed": true
   },
   "outputs": [],
   "source": []
  }
 ],
 "metadata": {
  "kernelspec": {
   "display_name": "Python 2",
   "language": "python",
   "name": "python2"
  },
  "language_info": {
   "codemirror_mode": {
    "name": "ipython",
    "version": 2
   },
   "file_extension": ".py",
   "mimetype": "text/x-python",
   "name": "python",
   "nbconvert_exporter": "python",
   "pygments_lexer": "ipython2",
   "version": "2.7.10"
  }
 },
 "nbformat": 4,
 "nbformat_minor": 0
}
