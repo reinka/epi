{
 "cells": [
  {
   "cell_type": "code",
   "execution_count": 5,
   "metadata": {
    "collapsed": false
   },
   "outputs": [],
   "source": [
    "#Funktion, die „wahr“ ausgibt, falls Array A in Array B enthalten ist, sonst „falsch“.\n",
    "\n",
    "def strstr(A, NA, B, NB):\n",
    "    if A in B:\n",
    "        return \"Wahr\"\n",
    "    else:\n",
    "        return \"Falsch\"\n",
    "    \n",
    "#Komplexität: O(n)\n",
    "#Speicherbedarf: O(n), 2 Arrays, 2 Variablen\n",
    "\n",
    "    "
   ]
  },
  {
   "cell_type": "code",
   "execution_count": 23,
   "metadata": {
    "collapsed": true
   },
   "outputs": [],
   "source": [
    "def strstr_(A,NA,B,NB):\n",
    "    if(NA <= NB):\n",
    "        for i in range(NB):\n",
    "            print B[i:NB]\n",
    "            if(A == B[i:NB]):\n",
    "                return \"Wahr\"\n",
    "    return \"Falsch\"\n",
    "\n",
    "#Komplexität: O(n)\n",
    "#Speicherbedarf: O(n), 2 Arrays, 2 Variablen"
   ]
  },
  {
   "cell_type": "code",
   "execution_count": 24,
   "metadata": {
    "collapsed": false
   },
   "outputs": [
    {
     "name": "stdout",
     "output_type": "stream",
     "text": [
      "Array 1: Hallo Welt\n",
      "Array 2: Hallo\n"
     ]
    },
    {
     "data": {
      "text/plain": [
       "'Falsch'"
      ]
     },
     "execution_count": 24,
     "metadata": {},
     "output_type": "execute_result"
    }
   ],
   "source": [
    "a = raw_input(\"Array 1: \")\n",
    "len_a = len(a)\n",
    "b = raw_input(\"Array 2: \")\n",
    "len_b = len(b)\n",
    "\n",
    "strstr_(a, len_a, b, len_b)"
   ]
  },
  {
   "cell_type": "code",
   "execution_count": 22,
   "metadata": {
    "collapsed": false
   },
   "outputs": [
    {
     "name": "stdout",
     "output_type": "stream",
     "text": [
      "Array 1: Welt\n",
      "Array 2: Hallo Welt\n",
      "Hallo Welt\n",
      "allo Welt\n",
      "llo Welt\n",
      "lo Welt\n",
      "o Welt\n",
      " Welt\n",
      "Welt\n"
     ]
    },
    {
     "data": {
      "text/plain": [
       "'Wahr'"
      ]
     },
     "execution_count": 22,
     "metadata": {},
     "output_type": "execute_result"
    }
   ],
   "source": [
    "a = raw_input(\"Array 1: \")\n",
    "len_a = len(a)\n",
    "b = raw_input(\"Array 2: \")\n",
    "len_b = len(b)\n",
    "\n",
    "strstr_(a, len_a, b, len_b)"
   ]
  },
  {
   "cell_type": "code",
   "execution_count": null,
   "metadata": {
    "collapsed": true
   },
   "outputs": [],
   "source": []
  },
  {
   "cell_type": "code",
   "execution_count": 55,
   "metadata": {
    "collapsed": false
   },
   "outputs": [
    {
     "name": "stdout",
     "output_type": "stream",
     "text": [
      "Array 1: Hallo Welt\n",
      "Array 2: Welt\n"
     ]
    },
    {
     "data": {
      "text/plain": [
       "'Falsch'"
      ]
     },
     "execution_count": 55,
     "metadata": {},
     "output_type": "execute_result"
    }
   ],
   "source": [
    "a = raw_input(\"Array 1: \")\n",
    "len_a = len(a)\n",
    "b = raw_input(\"Array 2: \")\n",
    "len_b = len(b)\n",
    "\n",
    "strstr(a, len_a, b, len_b)"
   ]
  },
  {
   "cell_type": "code",
   "execution_count": 56,
   "metadata": {
    "collapsed": false
   },
   "outputs": [
    {
     "name": "stdout",
     "output_type": "stream",
     "text": [
      "Array 1: Welt\n",
      "Array 2: Hallo Welt\n"
     ]
    },
    {
     "data": {
      "text/plain": [
       "'Wahr'"
      ]
     },
     "execution_count": 56,
     "metadata": {},
     "output_type": "execute_result"
    }
   ],
   "source": [
    "a = raw_input(\"Array 1: \")\n",
    "len_a = len(a)\n",
    "b = raw_input(\"Array 2: \")\n",
    "len_b = len(b)\n",
    "\n",
    "strstr(a, len_a, b, len_b)"
   ]
  },
  {
   "cell_type": "code",
   "execution_count": 57,
   "metadata": {
    "collapsed": false
   },
   "outputs": [
    {
     "name": "stdout",
     "output_type": "stream",
     "text": [
      "Array 1: Hallo Welt\n",
      "Array 2: Hallo Österreich\n"
     ]
    },
    {
     "data": {
      "text/plain": [
       "'Falsch'"
      ]
     },
     "execution_count": 57,
     "metadata": {},
     "output_type": "execute_result"
    }
   ],
   "source": [
    "a = raw_input(\"Array 1: \")\n",
    "len_a = len(a)\n",
    "b = raw_input(\"Array 2: \")\n",
    "len_b = len(b)\n",
    "\n",
    "strstr(a, len_a, b, len_b)"
   ]
  },
  {
   "cell_type": "code",
   "execution_count": 58,
   "metadata": {
    "collapsed": false
   },
   "outputs": [
    {
     "name": "stdout",
     "output_type": "stream",
     "text": [
      "Array 1: 12\n",
      "Array 2: 4521, 2342, 3421, 32124\n"
     ]
    },
    {
     "data": {
      "text/plain": [
       "'Wahr'"
      ]
     },
     "execution_count": 58,
     "metadata": {},
     "output_type": "execute_result"
    }
   ],
   "source": [
    "a = raw_input(\"Array 1: \")\n",
    "len_a = len(a)\n",
    "b = raw_input(\"Array 2: \")\n",
    "len_b = len(b)\n",
    "\n",
    "strstr(a, len_a, b, len_b)"
   ]
  },
  {
   "cell_type": "code",
   "execution_count": 59,
   "metadata": {
    "collapsed": false
   },
   "outputs": [
    {
     "name": "stdout",
     "output_type": "stream",
     "text": [
      "Array 1: 12\n",
      "Array 2: 848473 2030348 233844 11142\n"
     ]
    },
    {
     "data": {
      "text/plain": [
       "'Falsch'"
      ]
     },
     "execution_count": 59,
     "metadata": {},
     "output_type": "execute_result"
    }
   ],
   "source": [
    "a = raw_input(\"Array 1: \")\n",
    "len_a = len(a)\n",
    "b = raw_input(\"Array 2: \")\n",
    "len_b = len(b)\n",
    "\n",
    "strstr(a, len_a, b, len_b)"
   ]
  },
  {
   "cell_type": "code",
   "execution_count": null,
   "metadata": {
    "collapsed": true
   },
   "outputs": [],
   "source": []
  }
 ],
 "metadata": {
  "kernelspec": {
   "display_name": "Python 2",
   "language": "python",
   "name": "python2"
  },
  "language_info": {
   "codemirror_mode": {
    "name": "ipython",
    "version": 2
   },
   "file_extension": ".py",
   "mimetype": "text/x-python",
   "name": "python",
   "nbconvert_exporter": "python",
   "pygments_lexer": "ipython2",
   "version": "2.7.10"
  }
 },
 "nbformat": 4,
 "nbformat_minor": 0
}
