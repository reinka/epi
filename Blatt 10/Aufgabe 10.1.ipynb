{
 "cells": [
  {
   "cell_type": "markdown",
   "metadata": {},
   "source": [
    "#### Eine Menge von Ganzzahlen wird mit Zufallszahlen als einfachverkettete Liste initialisiert. Implementieren Sie einen\n",
    "#### Algorithmus, der die Zahlen in der verketteten Liste absteigend sortiert."
   ]
  },
  {
   "cell_type": "code",
   "execution_count": 4,
   "metadata": {
    "collapsed": true
   },
   "outputs": [],
   "source": [
    "from random import randint\n",
    "class Node:\n",
    "    def __init__(self,value):\n",
    "        self.data = value\n",
    "        self.next = None\n",
    "    #def setdata(self,value):\n",
    "    #    self.data = value"
   ]
  },
  {
   "cell_type": "code",
   "execution_count": 9,
   "metadata": {
    "collapsed": false
   },
   "outputs": [
    {
     "name": "stdout",
     "output_type": "stream",
     "text": [
      "Output after random initialization: 11 19 20 16\n"
     ]
    }
   ],
   "source": [
    "\n",
    "a = Node(randint(1,20))\n",
    "b = Node(randint(1,20))\n",
    "a.next = b\n",
    "c = Node(randint(1,20))\n",
    "b.next = c\n",
    "d = Node(randint(1,20))\n",
    "c.next = d\n",
    "e = Node(randint(1,20))\n",
    "d.next = e\n",
    "e.next = None\n",
    "\n",
    "print('Output after random initialization:', a.data, a.next.data, a.next.next.data, a.next.next.next.data)\n",
    "\n",
    "\n",
    "def sort_singly_linked_list(startNode):\n",
    "    \n",
    "    #create box, store all nodes within it\n",
    "    box = []\n",
    "    while startNode.next is not None:\n",
    "        box.append(startNode)\n",
    "        startNode = startNode.next\n",
    "        \n",
    "    #create list for which is going to contain the nodes in descending   \n",
    "    descending = []\n",
    "    while(box):\n",
    "        #declare first node in box a priori as the first node in general (thus containing max value)\n",
    "        newFirstNode = box[0]\n",
    "        for i in box:\n",
    "            #check if adjacent node contains higher value, if so, declare adjacent node as newFirstNode\n",
    "            if newFirstNode.data < i.data:\n",
    "                newFirstNode = i\n",
    "        #once all are compared, append newFirstNode to descending list, and pop the node from the box\n",
    "        descending.append(newFirstNode)\n",
    "        box.pop(box.index(newFirstNode))\n",
    "        \n",
    "        #repeat until box is empty\n",
    "    \n",
    "        \n",
    "    #going to link the nodes from scratch using the list containing the descending order\n",
    "    numberOfItems = len(descending)\n",
    "    for i in range(numberOfItems):\n",
    "        #link each node in 'descending' to its adjacent neighbour, until the last node is \n",
    "        #reached, which will be linked to None\n",
    "        descending[i].next = descending[i+1] if (i + 1) < numberOfItems else None\n",
    "        \n",
    "    return descending[0]"
   ]
  },
  {
   "cell_type": "markdown",
   "metadata": {},
   "source": [
    "## Testing"
   ]
  },
  {
   "cell_type": "code",
   "execution_count": 10,
   "metadata": {
    "collapsed": false
   },
   "outputs": [
    {
     "name": "stdout",
     "output_type": "stream",
     "text": [
      "20\n",
      "19\n",
      "16\n",
      "11\n"
     ]
    }
   ],
   "source": [
    "newStart = sort_singly_linked_list(a)\n",
    "while newStart is not None:\n",
    "    print (newStart.data)\n",
    "    newStart = newStart.next"
   ]
  },
  {
   "cell_type": "code",
   "execution_count": null,
   "metadata": {
    "collapsed": true
   },
   "outputs": [],
   "source": []
  },
  {
   "cell_type": "code",
   "execution_count": null,
   "metadata": {
    "collapsed": true
   },
   "outputs": [],
   "source": []
  },
  {
   "cell_type": "code",
   "execution_count": null,
   "metadata": {
    "collapsed": true
   },
   "outputs": [],
   "source": []
  },
  {
   "cell_type": "code",
   "execution_count": null,
   "metadata": {
    "collapsed": true
   },
   "outputs": [],
   "source": []
  },
  {
   "cell_type": "code",
   "execution_count": null,
   "metadata": {
    "collapsed": true
   },
   "outputs": [],
   "source": []
  },
  {
   "cell_type": "code",
   "execution_count": null,
   "metadata": {
    "collapsed": true
   },
   "outputs": [],
   "source": []
  },
  {
   "cell_type": "markdown",
   "metadata": {},
   "source": [
    "#### this doesn' work for some reason. gotta research why"
   ]
  },
  {
   "cell_type": "code",
   "execution_count": 44,
   "metadata": {
    "collapsed": false
   },
   "outputs": [
    {
     "name": "stdout",
     "output_type": "stream",
     "text": [
      "a\n",
      "b\n",
      "c\n",
      "d\n",
      "e\n"
     ]
    }
   ],
   "source": [
    "from random import randint\n",
    "for x in list('abcde'):\n",
    "    print(x)\n",
    "    x = Node()\n",
    "    x.setdata(randint(1,20))\n",
    "    x.data\n"
   ]
  },
  {
   "cell_type": "code",
   "execution_count": 47,
   "metadata": {
    "collapsed": false
   },
   "outputs": [
    {
     "ename": "NameError",
     "evalue": "name 'b' is not defined",
     "output_type": "error",
     "traceback": [
      "\u001b[0;31m---------------------------------------------------------------------------\u001b[0m",
      "\u001b[0;31mNameError\u001b[0m                                 Traceback (most recent call last)",
      "\u001b[0;32m<ipython-input-47-3b111b503714>\u001b[0m in \u001b[0;36m<module>\u001b[0;34m()\u001b[0m\n\u001b[0;32m----> 1\u001b[0;31m \u001b[0mb\u001b[0m\u001b[0;34m.\u001b[0m\u001b[0mdata\u001b[0m\u001b[0;34m\u001b[0m\u001b[0m\n\u001b[0m",
      "\u001b[0;31mNameError\u001b[0m: name 'b' is not defined"
     ]
    }
   ],
   "source": [
    "b.data"
   ]
  },
  {
   "cell_type": "code",
   "execution_count": 52,
   "metadata": {
    "collapsed": false
   },
   "outputs": [],
   "source": [
    "a = Node()\n",
    "a.setdata(randint(1, 20))"
   ]
  },
  {
   "cell_type": "code",
   "execution_count": 53,
   "metadata": {
    "collapsed": false
   },
   "outputs": [
    {
     "data": {
      "text/plain": [
       "10"
      ]
     },
     "execution_count": 53,
     "metadata": {},
     "output_type": "execute_result"
    }
   ],
   "source": [
    "a.data"
   ]
  },
  {
   "cell_type": "code",
   "execution_count": 284,
   "metadata": {
    "collapsed": false
   },
   "outputs": [
    {
     "name": "stdout",
     "output_type": "stream",
     "text": [
      "19\n",
      "6\n",
      "4\n",
      "4\n"
     ]
    }
   ],
   "source": [
    "for i in descending:\n",
    "    print(i.data)"
   ]
  },
  {
   "cell_type": "code",
   "execution_count": 286,
   "metadata": {
    "collapsed": false
   },
   "outputs": [
    {
     "name": "stdout",
     "output_type": "stream",
     "text": [
      "19 <__main__.Node object at 0x1042fb048>\n",
      "6 <__main__.Node object at 0x1042f81d0>\n",
      "4 <__main__.Node object at 0x1042ac9e8>\n",
      "4 None\n"
     ]
    }
   ],
   "source": [
    "for i in descending:\n",
    "    print(i.data, i.next)"
   ]
  },
  {
   "cell_type": "code",
   "execution_count": null,
   "metadata": {
    "collapsed": true
   },
   "outputs": [],
   "source": []
  },
  {
   "cell_type": "code",
   "execution_count": 281,
   "metadata": {
    "collapsed": false
   },
   "outputs": [
    {
     "name": "stdout",
     "output_type": "stream",
     "text": [
      "[<__main__.Node object at 0x1042fb048>, <__main__.Node object at 0x1042f81d0>, <__main__.Node object at 0x1042ed550>, <__main__.Node object at 0x1042ac9e8>]\n",
      "16\n",
      "[<__main__.Node object at 0x1042fb048>, <__main__.Node object at 0x1042f81d0>, <__main__.Node object at 0x1042ed550>, <__main__.Node object at 0x1042ac9e8>]\n"
     ]
    }
   ],
   "source": [
    "print(box)\n",
    "first = box[0]\n",
    "print(last.data)\n",
    "box.index(first)\n",
    "print(box)"
   ]
  }
 ],
 "metadata": {
  "kernelspec": {
   "display_name": "Python 3",
   "language": "python",
   "name": "python3"
  },
  "language_info": {
   "codemirror_mode": {
    "name": "ipython",
    "version": 3
   },
   "file_extension": ".py",
   "mimetype": "text/x-python",
   "name": "python",
   "nbconvert_exporter": "python",
   "pygments_lexer": "ipython3",
   "version": "3.5.1"
  }
 },
 "nbformat": 4,
 "nbformat_minor": 0
}
