{
 "cells": [
  {
   "cell_type": "code",
   "execution_count": 6,
   "metadata": {
    "collapsed": false
   },
   "outputs": [
    {
     "name": "stdout",
     "output_type": "stream",
     "text": [
      "N = 5\n",
      "a[0] = 1\n",
      "a[1] = 2\n",
      "a[2] = 3\n",
      "a[3] = 4\n",
      "a[4] = 5\n",
      "10\n"
     ]
    }
   ],
   "source": [
    "def readArray():\n",
    "    n = int(input(\"N = \"))\n",
    "    a = [0]*n\n",
    "    for i in range(0,n):\n",
    "        a[i]=int(input(\"a[\" + str(i) + \"] = \"))\n",
    "    return n,a;\n",
    "\n",
    "n,a = readArray();\n",
    "s = 0;\n",
    "for i in range(0,n):\n",
    "    s = s + i  #Fehler?\n",
    "print s"
   ]
  },
  {
   "cell_type": "code",
   "execution_count": 8,
   "metadata": {
    "collapsed": false
   },
   "outputs": [
    {
     "name": "stdout",
     "output_type": "stream",
     "text": [
      "N = 5\n",
      "a[0] = 1\n",
      "a[1] = 2\n",
      "a[2] = 3\n",
      "a[3] = 4\n",
      "a[4] = 5\n",
      "15\n"
     ]
    }
   ],
   "source": [
    "def readArray():\n",
    "    n = int(input(\"N = \"))\n",
    "    a = [0]*n\n",
    "    for i in range(0,n):\n",
    "        a[i]=int(input(\"a[\" + str(i) + \"] = \"))\n",
    "    return n,a;\n",
    "\n",
    "n,a = readArray();\n",
    "s = 0;\n",
    "for i in range(0,n):\n",
    "    s = s + a[i]\n",
    "print s"
   ]
  },
  {
   "cell_type": "code",
   "execution_count": null,
   "metadata": {
    "collapsed": true
   },
   "outputs": [],
   "source": []
  }
 ],
 "metadata": {
  "kernelspec": {
   "display_name": "Python 2",
   "language": "python",
   "name": "python2"
  },
  "language_info": {
   "codemirror_mode": {
    "name": "ipython",
    "version": 2
   },
   "file_extension": ".py",
   "mimetype": "text/x-python",
   "name": "python",
   "nbconvert_exporter": "python",
   "pygments_lexer": "ipython2",
   "version": "2.7.10"
  }
 },
 "nbformat": 4,
 "nbformat_minor": 0
}
